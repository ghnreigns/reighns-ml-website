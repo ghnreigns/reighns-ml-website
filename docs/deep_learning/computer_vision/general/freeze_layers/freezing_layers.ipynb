{
 "cells": [
  {
   "cell_type": "markdown",
   "id": "d7c7e7e9-33fc-49d1-b65a-a98cc993707e",
   "metadata": {},
   "source": [
    "## Imports, Config and Seeding"
   ]
  },
  {
   "cell_type": "code",
   "execution_count": 50,
   "id": "e062f3e6-d7f2-4651-b7d2-181200b00873",
   "metadata": {},
   "outputs": [],
   "source": [
    "import timm\n",
    "import torch\n",
    "import torchvision\n",
    "from typing import Dict, Union, Callable, OrderedDict\n",
    "import os, random\n",
    "import numpy as np"
   ]
  },
  {
   "cell_type": "code",
   "execution_count": 51,
   "id": "59d99e81-3309-4367-8774-738dead6065d",
   "metadata": {},
   "outputs": [
    {
     "name": "stdout",
     "output_type": "stream",
     "text": [
      "Using Seed Number 1992\n"
     ]
    }
   ],
   "source": [
    "def seed_all(seed: int = 1992) -> None:\n",
    "    \"\"\"Seed all random number generators.\"\"\"\n",
    "    print(f\"Using Seed Number {seed}\")\n",
    "\n",
    "    os.environ[\"PYTHONHASHSEED\"] = str(seed)  # set PYTHONHASHSEED env var at fixed value\n",
    "    torch.manual_seed(seed)\n",
    "    torch.cuda.manual_seed_all(seed)\n",
    "    torch.cuda.manual_seed(seed)  # pytorch (both CPU and CUDA)\n",
    "    np.random.seed(seed)  # for numpy pseudo-random generator\n",
    "    # set fixed value for python built-in pseudo-random generator\n",
    "    random.seed(seed)\n",
    "    torch.backends.cudnn.deterministic = True\n",
    "    torch.backends.cudnn.benchmark = True\n",
    "    torch.backends.cudnn.enabled = True\n",
    "\n",
    "\n",
    "def seed_worker(_worker_id) -> None:\n",
    "    \"\"\"Seed a worker with the given ID.\"\"\"\n",
    "    worker_seed = torch.initial_seed() % 2 ** 32\n",
    "    np.random.seed(worker_seed)\n",
    "    random.seed(worker_seed)\n",
    "\n",
    "\n",
    "seed_all(seed=1992)"
   ]
  },
  {
   "cell_type": "code",
   "execution_count": 52,
   "id": "e2d8059e-bc09-45be-948b-71d873b0f8ba",
   "metadata": {},
   "outputs": [],
   "source": [
    "DEVICE = torch.device(\"cuda\" if torch.cuda.is_available() else \"cpu\")"
   ]
  },
  {
   "cell_type": "code",
   "execution_count": 53,
   "id": "c6c4f503-ce8a-4cbd-af17-e9be31796a0b",
   "metadata": {},
   "outputs": [],
   "source": [
    "# resnet18_pretrained_true = timm.create_model(model_name = \"resnet34\", pretrained=True, num_classes=10).to(DEVICE)"
   ]
  },
  {
   "cell_type": "code",
   "execution_count": 54,
   "id": "0202a9d2-9ccb-4499-a95f-8b0904927e51",
   "metadata": {},
   "outputs": [
    {
     "name": "stdout",
     "output_type": "stream",
     "text": [
      "tensor([0., 0., 0.]) tensor([1., 1., 1.])\n"
     ]
    }
   ],
   "source": [
    "norm = torch.nn.InstanceNorm2d(num_features=3, track_running_stats=True)\n",
    "print(norm.running_mean, norm.running_var)"
   ]
  },
  {
   "cell_type": "code",
   "execution_count": 55,
   "id": "34fa806f-a722-4dcb-9379-1482ce3e2480",
   "metadata": {},
   "outputs": [
    {
     "name": "stdout",
     "output_type": "stream",
     "text": [
      "tensor([-1.3414e-03, -4.7338e-05,  1.1239e-03]) tensor([1.0010, 0.9984, 0.9989])\n",
      "tensor([-2.5486e-03, -8.9943e-05,  2.1355e-03]) tensor([1.0018, 0.9969, 0.9979])\n",
      "tensor([-0.0036, -0.0001,  0.0030]) tensor([1.0026, 0.9956, 0.9970])\n"
     ]
    }
   ],
   "source": [
    "x = torch.randn(2, 3, 24, 24)\n",
    "\n",
    "out = norm(x)\n",
    "print(norm.running_mean, norm.running_var)\n",
    "\n",
    "out = norm(x)\n",
    "print(norm.running_mean, norm.running_var)\n",
    "\n",
    "\n",
    "out = norm(x)\n",
    "print(norm.running_mean, norm.running_var)"
   ]
  },
  {
   "cell_type": "code",
   "execution_count": 20,
   "id": "0e167b1d-60c4-4fdf-a9e6-fa7b5ef22aa8",
   "metadata": {},
   "outputs": [
    {
     "name": "stdout",
     "output_type": "stream",
     "text": [
      "tensor([-0.0160, -0.0018,  0.0068]) tensor([1.0002, 1.0082, 0.9904])\n"
     ]
    }
   ],
   "source": [
    "norm.eval()\n",
    "out = norm(x)\n",
    "print(norm.running_mean, norm.running_var)"
   ]
  },
  {
   "cell_type": "code",
   "execution_count": 56,
   "id": "0890b764-daac-45c2-9564-2eeee91da2a6",
   "metadata": {},
   "outputs": [],
   "source": [
    "def freeze_batchnorm_layers(model: Callable) -> None:\n",
    "    \"\"\"Freeze the batchnorm layers of a PyTorch model.\n",
    "\n",
    "    Args:\n",
    "        model (CustomNeuralNet): model to be frozen.\n",
    "\n",
    "    Example:\n",
    "        >>> model = timm.create_model(\"efficientnet_b0\", pretrained=True)\n",
    "        >>> model.apply(freeze_batchnorm_layers) # to freeze during training\n",
    "    \"\"\"\n",
    "    # https://discuss.pytorch.org/t/how-to-freeze-bn-layers-while-training-the-rest-of-network-mean-and-var-wont-freeze/89736/19\n",
    "    # https://discuss.pytorch.org/t/should-i-use-model-eval-when-i-freeze-batchnorm-layers-to-finetune/39495/3\n",
    "    classname = model.__class__.__name__\n",
    "\n",
    "    for module in model.modules():\n",
    "        if isinstance(module, torch.nn.InstanceNorm2d):\n",
    "            module.eval()\n",
    "        if isinstance(module, torch.nn.BatchNorm2d):\n",
    "            \n",
    "            if hasattr(module, \"weight\"):\n",
    "                module.weight.requires_grad_(False)\n",
    "            if hasattr(module, \"bias\"):\n",
    "                module.bias.requires_grad_(False)\n",
    "            module.eval()"
   ]
  },
  {
   "cell_type": "code",
   "execution_count": 57,
   "id": "78a4280d-011d-4259-8c6b-bf19dfaa97a3",
   "metadata": {},
   "outputs": [
    {
     "data": {
      "text/plain": [
       "InstanceNorm2d(3, eps=1e-05, momentum=0.1, affine=False, track_running_stats=True)"
      ]
     },
     "execution_count": 57,
     "metadata": {},
     "output_type": "execute_result"
    }
   ],
   "source": [
    "norm.apply(freeze_batchnorm_layers)"
   ]
  },
  {
   "cell_type": "code",
   "execution_count": 58,
   "id": "824b10cd-b01b-4e13-8731-d2698dad86ad",
   "metadata": {},
   "outputs": [],
   "source": [
    "out = norm(x)"
   ]
  },
  {
   "cell_type": "code",
   "execution_count": 59,
   "id": "6dfe5353-b0ef-41b1-9fa9-5c795ff88778",
   "metadata": {},
   "outputs": [
    {
     "data": {
      "text/plain": [
       "(tensor([-0.0036, -0.0001,  0.0030]), tensor([1.0026, 0.9956, 0.9970]))"
      ]
     },
     "execution_count": 59,
     "metadata": {},
     "output_type": "execute_result"
    }
   ],
   "source": [
    "norm.running_mean, norm.running_var"
   ]
  }
 ],
 "metadata": {
  "kernelspec": {
   "display_name": "Python 3 (ipykernel)",
   "language": "python",
   "name": "python3"
  },
  "language_info": {
   "codemirror_mode": {
    "name": "ipython",
    "version": 3
   },
   "file_extension": ".py",
   "mimetype": "text/x-python",
   "name": "python",
   "nbconvert_exporter": "python",
   "pygments_lexer": "ipython3",
   "version": "3.9.10"
  }
 },
 "nbformat": 4,
 "nbformat_minor": 5
}

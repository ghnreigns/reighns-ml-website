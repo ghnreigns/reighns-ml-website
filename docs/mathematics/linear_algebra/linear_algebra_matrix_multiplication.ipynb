{
 "cells": [
  {
   "cell_type": "markdown",
   "id": "18de9b4e-6f8d-4a2a-a016-5cfd4bb81de8",
   "metadata": {},
   "source": [
    "$$\\newcommand{\\F}{\\mathbb{F}}\n",
    "\\newcommand{\\R}{\\mathbb{R}}\n",
    "\\newcommand{\\v}{\\mathbf{v}}\n",
    "\\newcommand{\\a}{\\mathbf{a}}\n",
    "\\newcommand{\\b}{\\mathbf{b}}\n",
    "\\newcommand{\\c}{\\mathbf{c}}\n",
    "\\newcommand{\\w}{\\mathbf{w}}\n",
    "\\newcommand{\\u}{\\mathbf{u}}\n",
    "\\newcommand{\\x}{\\mathbf{x}}\n",
    "\\newcommand{\\y}{\\mathbf{y}}\n",
    "\\newcommand{\\z}{\\mathbf{z}}\n",
    "\\newcommand{\\0}{\\mathbf{0}}\n",
    "\\newcommand{\\1}{\\mathbf{1}}\n",
    "\\newcommand{\\A}{\\mathbf{A}}\n",
    "\\newcommand{\\B}{\\mathbf{B}}\n",
    "\\newcommand{\\C}{\\mathbf{C}}$$"
   ]
  },
  {
   "cell_type": "markdown",
   "id": "fdfcb049-5b1c-4f2f-aa7e-6eb2f198fbfb",
   "metadata": {},
   "source": [
    "## Table of Contents\n",
    "\n",
    "* [Learning Objectives](#1)\n",
    "* [Matrix Multiplicaton](#1)\n",
    "    * [Definition (Field)](#Import_modules_offline)\n",
    "    * [Examples of Fields](#Import_other_modules)\n",
    "    * [Notation of Fields](#11)\n",
    "    * [Summary of Fields](#11)\n",
    "* [Vectors](#2)\n",
    "    * [Geometric Definition (Vectors)](#11)\n",
    "        * [Vector is Invariant under Coordinates](#11)\n",
    "    * [Algebraic Definition (Vectors)](#11)\n",
    "    * [Equality of Vectors](#11)\n",
    "    * [Vector Orientation](#11)\n",
    "        * [Example of Column and Row Vectors](#11)\n",
    "    * [Transposed Vector](#11)\n",
    "        * [Definition (Transposed Vector)](#11)\n",
    "    * [Vector Addition and Subtraction](#11)\n",
    "        * [Algebraic Definition](#11)\n",
    "        * [Geometric Definition](#11)\n",
    "        * [Vector Addition is Commutative](#11)"
   ]
  },
  {
   "cell_type": "markdown",
   "id": "10c57caa-a66a-421c-a637-ea9bbd354557",
   "metadata": {},
   "source": [
    "!!! summary \"Learning Objectives\"\n",
    "    - Definition of a Field\n",
    "    - Definition of a Vector\n",
    "        - Vector Operations with both Algebraic and Geometric understanding."
   ]
  },
  {
   "cell_type": "markdown",
   "id": "5e6f53d8-f995-404e-b51d-2e978d0d7b0f",
   "metadata": {},
   "source": [
    "## Matrix Multiplication"
   ]
  },
  {
   "cell_type": "markdown",
   "id": "9052e27e-6049-4c25-ac28-ee97c28743c7",
   "metadata": {},
   "source": [
    "### Validity of Matrix Multiplication\n",
    "\n",
    "\n",
    "If you have dabbled in deep learning before, then the dreaded error `shape mismatch` is **omnipresent**. This is because matrix multiplication is not defined sometimes.\n",
    "\n",
    "If $\\A$ is an $m \\times n$ matrix and $\\B$ is an $n \\times p$ matrix, then $\\A\\B$ is well defined because the **columns** of $\\A$ is equals to the **rows** of $\\B$. If this is not true, then the \"shape is mismatched\". Consequently, if the matrix multiplication is well defined, then $\\C = \\A\\B$ has shape (size) of $m \\times p$."
   ]
  },
  {
   "cell_type": "markdown",
   "id": "11d4b958-628f-4832-9aae-349b51ea479c",
   "metadata": {},
   "source": [
    "### Basic Formula for Matrix Multiplication\n",
    "\n",
    "Let us go through the most basic formula for matrix multiplication. Quoting from Wikipedia[^matrix_multiplication]:\n",
    "\n",
    "---\n",
    "\n",
    "Let \n",
    "\n",
    "$$\\A=\\begin{bmatrix}\n",
    " a_{11} & a_{12} & \\cdots & a_{1n} \\\\\n",
    " a_{21} & a_{22} & \\cdots & a_{2n} \\\\\n",
    "\\vdots & \\vdots & \\ddots & \\vdots \\\\\n",
    " a_{m1} & a_{m2} & \\cdots & a_{mn} \\\\\n",
    "\\end{bmatrix},\\quad\\mathbf{B}=\\begin{bmatrix}\n",
    " b_{11} & b_{12} & \\cdots & b_{1p} \\\\\n",
    " b_{21} & b_{22} & \\cdots & b_{2p} \\\\\n",
    "\\vdots & \\vdots & \\ddots & \\vdots \\\\\n",
    " b_{n1} & b_{n2} & \\cdots & b_{np} \\\\\n",
    "\\end{bmatrix}$$\n",
    "\n",
    "then the **matrix product** $\\C = \\A\\B$ is defined to be the $m \\times p$ matrix:\n",
    "\n",
    "$$\\mathbf{C}=\\A\\B=\\begin{bmatrix}\n",
    " c_{11} & c_{12} & \\cdots & c_{1p} \\\\\n",
    " c_{21} & c_{22} & \\cdots & c_{2p} \\\\\n",
    "\\vdots & \\vdots & \\ddots & \\vdots \\\\\n",
    " c_{m1} & c_{m2} & \\cdots & c_{mp} \\\\\n",
    "\\end{bmatrix}$$\n",
    "\n",
    "where $c_{ij} = a_{i1}b_{1j} + a_{i2}b_{2j} +\\cdots + a_{in}b_{nj}= \\sum_{k=1}^n a_{ik}b_{kj}$ for $i = 1, \\cdots , m$ and $j = 1, \\cdots , p$.\n",
    "\n",
    "That is, the entry $c_{i,j}$ of the product is obtained by multiplying term-by-term the entries of the $i$-th row of $\\A$ and the $j$-th column of $\\B$, and summing these $n$ products. In other words, $c_{i,j}$ is the **dot product** of the $i$-th row of $\\A$ and the $j$-th column of $\\B$.\n",
    "\n",
    "Therefore, $\\C = \\A\\B$ can also be written as\n",
    "\n",
    "$$\\mathbf{C}=\\A\\B=\\begin{bmatrix}\n",
    " a_{11}b_{11} +\\cdots + a_{1n}b_{n1} & a_{11}b_{12} +\\cdots + a_{1n}b_{n2} & \\cdots & a_{11}b_{1p} +\\cdots + a_{1n}b_{np} \\\\\n",
    " a_{21}b_{11} +\\cdots + a_{2n}b_{n1} & a_{21}b_{12} +\\cdots + a_{2n}b_{n2} & \\cdots & a_{21}b_{1p} +\\cdots + a_{2n}b_{np} \\\\\n",
    "\\vdots & \\vdots & \\ddots & \\vdots \\\\\n",
    " a_{m1}b_{11} +\\cdots + a_{mn}b_{n1} & a_{m1}b_{12} +\\cdots + a_{mn}b_{n2} & \\cdots & a_{m1}b_{1p} +\\cdots + a_{mn}b_{np} \\\\\n",
    "\\end{bmatrix} \n",
    "$$\n",
    "\n",
    "Thus the product $\\A\\B$ is defined if and only if the number of columns in $\\A$ equals the number of rows in $\\B$.\n",
    "\n",
    "\n",
    "[^matrix_multiplication]: [https://en.wikipedia.org/wiki/Matrix_multiplication](https://en.wikipedia.org/wiki/Matrix_multiplication)"
   ]
  },
  {
   "cell_type": "markdown",
   "id": "1bf81b57-708c-4325-b95a-f53582887707",
   "metadata": {},
   "source": [
    "### Matrix-Vector Multiplication\n",
    "\n",
    "Before we go into **Matrix-Matrix** Multiplication, it is important to understand how **Matrix-Vector** Multiplication. Take a mental note on the usage of **linear combination** here.\n",
    "\n",
    "We will be referencing heavily from the article written by Eli Bendersky[^visualizing-matrix-multiplication-as-a-linear-combination].\n",
    "\n",
    "[^visualizing-matrix-multiplication-as-a-linear-combination]: [https://eli.thegreenplace.net/2015/visualizing-matrix-multiplication-as-a-linear-combination/](https://eli.thegreenplace.net/2015/visualizing-matrix-multiplication-as-a-linear-combination/)"
   ]
  },
  {
   "cell_type": "markdown",
   "id": "8498cbc6-2d23-4c78-b46c-14d4d8f87e7c",
   "metadata": {},
   "source": [
    "#### Right Multiplication (Linear Combination of Columns)"
   ]
  },
  {
   "cell_type": "markdown",
   "id": "420df348-1cea-43b6-8774-83428619d35f",
   "metadata": {},
   "source": [
    "##### Example (Right Multiplication)\n",
    "\n",
    "We motivate this with an example.\n",
    "\n",
    "Given a 3 by 3 matrix $A = \\begin{bmatrix} x_1 & y_1 & z_1 \\\\ x_2 & y_2 & z_2 \\\\ x_3 & y_3 & z_3 \\\\ \\end{bmatrix}$ and $\\x = \\begin{bmatrix} a \\\\ b \\\\ c \\\\ \\end{bmatrix}$ then \n",
    "\n",
    "$$\\A\\x = \\begin{bmatrix} x_1 & y_1 & z_1 \\\\ x_2 & y_2 & z_2 \\\\ x_3 & y_3 & z_3 \\\\ \\end{bmatrix} \\begin{bmatrix} a \\\\ b \\\\ c \\\\ \\end{bmatrix} = \\begin{bmatrix} ax_1+by_1+cz_1 \\\\ ax_2+by_2+cz_2 \\\\ ax_3+by_3+cz_3 \\\\ \\end{bmatrix}$$\n",
    "\n",
    "But notice that the above can also be written as:\n",
    "\n",
    "$$\\A\\x = \\begin{bmatrix} x_1 & y_1 & z_1 \\\\ x_2 & y_2 & z_2 \\\\ x_3 & y_3 & z_3 \\\\ \\end{bmatrix} \\begin{bmatrix} a \\\\ b \\\\ c \\\\ \\end{bmatrix} = \\begin{bmatrix} ax_1+by_1+cz_1 \\\\ ax_2+by_2+cz_2 \\\\ ax_3+by_3+cz_3 \\\\ \\end{bmatrix} \n",
    "= \\color{red}{a}\\begin{bmatrix} x_1 \\\\ x_2 \\\\ x_3 \\\\ \\end{bmatrix} + \\color{green}{b}\\begin{bmatrix} y_1 \\\\ y_2 \\\\ y_3 \\\\ \\end{bmatrix} + \\color{blue}{c}\\begin{bmatrix} z_1 \\\\ z_2 \\\\ z_3 \\\\ \\end{bmatrix}$$\n",
    "\n",
    "**This above expression is called: The matrix $\\A$ acts on the vector $\\x$ and the output is a linear combination of the columns of the matrix $\\A$**."
   ]
  },
  {
   "cell_type": "markdown",
   "id": "241a333e-8e20-4f9f-b019-23ce70c66c26",
   "metadata": {},
   "source": [
    "##### Example (Linear Transformation)\n",
    "\n",
    "We won't be going through the formal definition yet, but one could directly see as a consequence of the previous example.\n",
    "\n",
    "---\n",
    "\n",
    "Given a 3 by 3 matrix $A = \\begin{bmatrix} 1 & 2 & 3 \\\\ 2 & 4 & 6 \\\\ 3 & 6 & 9 \\\\ \\end{bmatrix}$ and $\\x = \\begin{bmatrix} 1 \\\\ 2 \\\\ 4 \\\\ \\end{bmatrix}$ then the geometric meaning of $\\A\\x$ can be defined by a series of \"linear transformations\" categorized by scaling the first column of $\\A$ by 1, then add the result to 2 times of the second column of $\\A$, and add the result to 4 times of the third column of $\\A$."
   ]
  },
  {
   "cell_type": "markdown",
   "id": "b2c160ff-e80d-4b48-a21c-a33ee350e446",
   "metadata": {},
   "source": [
    "##### Definition (Right Multiplication)\n",
    "\n",
    "Given a $m \\times n$ matrix \n",
    "$\\A=\\begin{bmatrix}\n",
    " a_{11} & a_{12} & \\cdots & a_{1n} \\\\\n",
    " a_{21} & a_{22} & \\cdots & a_{2n} \\\\\n",
    "\\vdots & \\vdots & \\ddots & \\vdots \\\\\n",
    " a_{m1} & a_{m2} & \\cdots & a_{mn} \\\\\n",
    "\\end{bmatrix}$ \n",
    "and a column vector \n",
    "$\\x=\\begin{bmatrix}\n",
    " x_{1} \\\\ x_{2} \\\\ \\vdots \\\\ x_{n}\\end{bmatrix}$ then \n",
    " \n",
    "$$\\A\\x = \\begin{bmatrix}\n",
    " a_{11} & a_{12} & \\cdots & a_{1n} \\\\\n",
    " a_{21} & a_{22} & \\cdots & a_{2n} \\\\\n",
    "\\vdots & \\vdots & \\ddots & \\vdots \\\\\n",
    " a_{m1} & a_{m2} & \\cdots & a_{mn} \\\\\n",
    "\\end{bmatrix}\\begin{bmatrix}\n",
    " x_{1} \\\\ x_{2} \\\\ \\vdots \\\\ x_{n}\\end{bmatrix} \n",
    "= \\color{red}{x_1}\\begin{bmatrix} a_{11} \\\\ a_{12} \\\\ \\vdots \\\\ a_{m1} \\\\ \\end{bmatrix} + \\color{green}{x_2}\\begin{bmatrix} a_{12} \\\\ a_{22} \\\\ \\vdots \\\\ a_{m2}  \\\\ \\end{bmatrix} + \\cdots +  \\color{blue}{x_n}\\begin{bmatrix} a_{1n} \\\\ a_{2n} \\\\ \\vdots \\\\ a_{mn} \\\\ \\end{bmatrix}$$ \n",
    "\n",
    "---\n",
    "\n",
    "If the formula looks daunting, just remember that $\\A\\x$ gives nothing but the **linear combination** of the columns of $\\A$ with values of $\\x$ as coefficients."
   ]
  },
  {
   "cell_type": "markdown",
   "id": "73900e02-94a2-4003-8aef-abb421b0c042",
   "metadata": {},
   "source": [
    "##### Linear Equations (Right Multiplication)\n",
    "\n",
    "This is a very important realization that one must have, I will mention it right here first and will repeat it throughout.\n",
    "\n",
    "Given a 3 by 3 matrix $A = \\begin{bmatrix} x_1 & y_1 & z_1 \\\\ x_2 & y_2 & z_2 \\\\ x_3 & y_3 & z_3 \\\\ \\end{bmatrix}$ and $\\x = \\begin{bmatrix} a \\\\ b \\\\ c \\\\ \\end{bmatrix}$ then \n",
    "\n",
    "$$\\A\\x = \\begin{bmatrix} x_1 & y_1 & z_1 \\\\ x_2 & y_2 & z_2 \\\\ x_3 & y_3 & z_3 \\\\ \\end{bmatrix} \\begin{bmatrix} a \\\\ b \\\\ c \\\\ \\end{bmatrix} = \\begin{bmatrix} ax_1+by_1+cz_1 \\\\ ax_2+by_2+cz_2 \\\\ ax_3+by_3+cz_3 \\\\ \\end{bmatrix} \n",
    "= \\color{red}{a}\\begin{bmatrix} x_1 \\\\ x_2 \\\\ x_3 \\\\ \\end{bmatrix} + \\color{green}{b}\\begin{bmatrix} y_1 \\\\ y_2 \\\\ y_3 \\\\ \\end{bmatrix} + \\color{blue}{c}\\begin{bmatrix} z_1 \\\\ z_2 \\\\ z_3 \\\\ \\end{bmatrix}$$\n",
    "\n",
    "---\n",
    "\n",
    "In the examples above, $\\A$ and $\\x$ are known and we want to find the unknown $\\b$ which is the product of $\\A\\x$.\n",
    "\n",
    "> Now, if we know $\\A$ and $\\b$ and wish to find $\\x$ that solves the **linear equation/system** $\\A\\x = \\b$ instead, what can we understand from the above?\n",
    "\n",
    "Since we know $\\b = \\A\\x$ is a linear combination of the columns of $\\A$ with values of $\\x$ as coefficients. Then if we want to solve for $\\x$, we ask ourselves what **combination** of the columns of $\\A = \\begin{bmatrix} \\x & \\y & \\z \\end{bmatrix}$ gives rise to the vector $\\b$? If we can find the **combination** $a, b, c$, we can recover  $\\x = \\begin{bmatrix} a \\\\ b \\\\ c \\\\ \\end{bmatrix}$"
   ]
  },
  {
   "cell_type": "markdown",
   "id": "0db784f4-f566-4a30-9931-072b2d3e3a3b",
   "metadata": {},
   "source": [
    "##### Column Space (Right Multiplication)\n",
    "\n",
    "A **column space** of a matrix $\\A$ is just the set of linear combination of the columns of $\\A$, and is a subspace. We will go through it in more details, but for now, we want to expose this idea first.\n",
    "\n",
    "As a consequence of the example prior, one should realize two things:\n",
    "\n",
    "- $\\A\\x = \\b$ may not always have a solution $\\x$.\n",
    "- If $\\A\\x = \\b$ has a solution $\\x$, then the product $\\b$ must be a **linear combination** of the columns of $\\A$. This has **important consequences** later on. For now, just know that if $\\A\\x = \\b$ has a solution, then $\\b$ resides in the **column space** of $\\A$."
   ]
  },
  {
   "cell_type": "markdown",
   "id": "60ee5724-eed0-4978-8514-11e42d234686",
   "metadata": {},
   "source": [
    "#### Left Multiplication (Linear Combination of Rows)\n",
    "\n",
    "This part is also necessary to better understand matrix multiplication later."
   ]
  },
  {
   "cell_type": "markdown",
   "id": "038a93b6-8c17-4e14-9603-25fbdf36fd06",
   "metadata": {},
   "source": [
    "##### Example (Left Multiplication)\n",
    "\n",
    "We motivate this with an example.\n",
    "\n",
    "Given a 3 by 3 matrix $A = \\begin{bmatrix} x_1 & y_1 & z_1 \\\\ x_2 & y_2 & z_2 \\\\ x_3 & y_3 & z_3 \\\\ \\end{bmatrix}$ and $\\x = \\begin{bmatrix} a & b & c \\end{bmatrix}$ then \n",
    "\n",
    "$$\\x\\A = \\begin{bmatrix} a & b & c \\end{bmatrix} \\begin{bmatrix} x_1 & y_1 & z_1 \\\\ x_2 & y_2 & z_2 \\\\ x_3 & y_3 & z_3 \\\\ \\end{bmatrix} = \\begin{bmatrix} ax_1+bx_2+cx_3 & ay_1+by_2+cy_3 & az_1+bz_2+cz_3 \\end{bmatrix}$$\n",
    "\n",
    "But notice that the above can also be written as:\n",
    "\n",
    "$$\\x\\A = \\begin{bmatrix} x_1 & y_1 & z_1 \\\\ x_2 & y_2 & z_2 \\\\ x_3 & y_3 & z_3 \\\\ \\end{bmatrix} = \\begin{bmatrix} ax_1+bx_2+cx_3 & ay_1+by_2+cy_3 & az_1+bz_2+cz_3 \\end{bmatrix}\n",
    "= \\color{red}{a}\\begin{bmatrix} x_1 & y_1 & z_1 \\end{bmatrix} + \\color{green}{b}\\begin{bmatrix} x_2 & y_2 & z_2 \\end{bmatrix} + \\color{blue}{c}\\begin{bmatrix} x_3 & y_3 & z_3 \\end{bmatrix}$$\n",
    "\n",
    "**Notice that now $\\x\\A$ is just a linear combination of the rows of $\\A$.**"
   ]
  },
  {
   "cell_type": "markdown",
   "id": "3dd9812c-5ff4-4f25-8ab4-b36a583e4064",
   "metadata": {
    "tags": []
   },
   "source": [
    "### The Four Interpretations of Matrix Multiplication"
   ]
  },
  {
   "cell_type": "markdown",
   "id": "dfbfd17f-8e90-4d44-8361-a9460ee19802",
   "metadata": {},
   "source": [
    "#### Element Wise Matrix Multiplication\n",
    "\n",
    "We have mentioned in the previous section. Here we repeat again for the sake of modularity.\n",
    "\n",
    "---\n",
    "\n",
    "Let \n",
    "\n",
    "$$\\A=\\begin{bmatrix}\n",
    " a_{11} & a_{12} & \\cdots & a_{1n} \\\\\n",
    " a_{21} & a_{22} & \\cdots & a_{2n} \\\\\n",
    "\\vdots & \\vdots & \\ddots & \\vdots \\\\\n",
    " a_{m1} & a_{m2} & \\cdots & a_{mn} \\\\\n",
    "\\end{bmatrix},\\quad\\mathbf{B}=\\begin{bmatrix}\n",
    " b_{11} & b_{12} & \\cdots & b_{1p} \\\\\n",
    " b_{21} & b_{22} & \\cdots & b_{2p} \\\\\n",
    "\\vdots & \\vdots & \\ddots & \\vdots \\\\\n",
    " b_{n1} & b_{n2} & \\cdots & b_{np} \\\\\n",
    "\\end{bmatrix}$$\n",
    "\n",
    "then the **matrix product** $\\C = \\A\\B$ is defined to be the $m \\times p$ matrix:\n",
    "\n",
    "$$\\mathbf{C}=\\A\\B=\\begin{bmatrix}\n",
    " c_{11} & c_{12} & \\cdots & c_{1p} \\\\\n",
    " c_{21} & c_{22} & \\cdots & c_{2p} \\\\\n",
    "\\vdots & \\vdots & \\ddots & \\vdots \\\\\n",
    " c_{m1} & c_{m2} & \\cdots & c_{mp} \\\\\n",
    "\\end{bmatrix}$$\n",
    "\n",
    "where $c_{ij} = a_{i1}b_{1j} + a_{i2}b_{2j} +\\cdots + a_{in}b_{nj}= \\sum_{k=1}^n a_{ik}b_{kj}$ for $i = 1, \\cdots , m$ and $j = 1, \\cdots , p$.\n",
    "\n",
    "That is, the entry $c_{i,j}$ of the product is obtained by multiplying term-by-term the entries of the $i$-th row of $\\A$ and the $j$-th column of $\\B$, and summing these $n$ products. In other words, $c_{i,j}$ is the **dot product** of the $i$-th row of $\\A$ and the $j$-th column of $\\B$.\n",
    "\n",
    "Therefore, $\\C = \\A\\B$ can also be written as\n",
    "\n",
    "$$\\mathbf{C}=\\A\\B=\\begin{bmatrix}\n",
    " a_{11}b_{11} +\\cdots + a_{1n}b_{n1} & a_{11}b_{12} +\\cdots + a_{1n}b_{n2} & \\cdots & a_{11}b_{1p} +\\cdots + a_{1n}b_{np} \\\\\n",
    " a_{21}b_{11} +\\cdots + a_{2n}b_{n1} & a_{21}b_{12} +\\cdots + a_{2n}b_{n2} & \\cdots & a_{21}b_{1p} +\\cdots + a_{2n}b_{np} \\\\\n",
    "\\vdots & \\vdots & \\ddots & \\vdots \\\\\n",
    " a_{m1}b_{11} +\\cdots + a_{mn}b_{n1} & a_{m1}b_{12} +\\cdots + a_{mn}b_{n2} & \\cdots & a_{m1}b_{1p} +\\cdots + a_{mn}b_{np} \\\\\n",
    "\\end{bmatrix} \n",
    "$$\n",
    "\n",
    "Thus the product $\\A\\B$ is defined if and only if the number of columns in $\\A$ equals the number of rows in $\\B$.\n",
    "\n",
    "---\n",
    "\n",
    "##### Significance (Element Wise Matrix Multiplication)\n",
    "\n",
    "From **Mike X Cohen: Linear Algebra: Theory, Intuition, Code, 2021. (pp. 144)**, he mentioned the following:\n",
    "\n",
    "- **The diagonal of $\\C$ contains dot products between row $i$ and column $j$ of $\\A$ and $\\B$ respectively, this is relevant in data covariance matrices.**\n",
    "- **The lower triangle of $\\C$ contains dot products between row $i$ in $\\A$ and column $j$ in $\\B$ where $i > j$. The upper triangle of $\\C$ contains dot products between row $i$ in $\\A$ and column $j$ in $\\B$ where $i < j$. Both are important in matrix decompositions, such as QR decomposition and generalized eigendecomposition**."
   ]
  },
  {
   "cell_type": "markdown",
   "id": "c8dc1604-d69d-455e-9f1c-589a738caf35",
   "metadata": {},
   "source": [
    "#### Outer Product Wise Matrix Multiplication\n",
    "\n",
    "To simplify notation, we denote:\n",
    "\n",
    "$$\\A = \\begin{bmatrix} \\a_1 & \\a_2 \\cdots & \\a_n \\end{bmatrix}, \\quad \\B = \\begin{bmatrix} \\b_1^\\top \\\\ \\b_2^\\top \\\\ \\cdots \\\\ \\b_n^\\top \\end{bmatrix}$$ as shorthand where $\\a_i$ is the $i$-th column of $\\A$ and $\\b_j^\\top$ is the $j$-th row of $\\B$. Then \n",
    "\n",
    "$$\\A\\B = \\a_1\\b_1^\\top + \\a_2\\b_2^\\top + \\cdots + \\a_n\\b_n^\\top$$\n",
    "\n",
    "> Notice that in each of the $\\a_i\\b_i^\\top$, the columns form a\n",
    "dependent set (the same can be said of the rows). However, the\n",
    "sum of these singular matrices—the product matrix—has columns\n",
    "that form a linearly independent set. Each of these matrices is rank-1 (to be defined later). This forms the basis for the Singular Value Decomposition. - **Mike X Cohen: Linear Algebra: Theory, Intuition, Code, 2021. (pp. 145)**"
   ]
  },
  {
   "cell_type": "markdown",
   "id": "5da0bbbd-69bf-4612-b8eb-a3c64f21de1a",
   "metadata": {},
   "source": [
    "#### Matrix Multiplication using Right Multiplication (Columns)\n",
    "\n",
    "They say a picture is worth a thousand words. The below images are taken from Eli Bendersky's website [here](https://eli.thegreenplace.net/2015/visualizing-matrix-multiplication-as-a-linear-combination/).\n",
    "\n",
    "\n",
    "<img src=\"https://storage.googleapis.com/reighns/reighns_ml_projects/docs/linear_algebra/visualizing-matrix-multiplication-as-a-linear-combination-column-perspective.PNG\" style=\"margin-left:auto; margin-right:auto\"/>\n",
    "<p style=\"text-align: center\">\n",
    "    <b>Matrix Multiplication, Column Perspective; Courtesy of Eli Bendersky</b>\n",
    "</p>\n",
    "\n",
    "\n",
    "##### Significance\n",
    "\n",
    "> The column perspective of matrix multiplication is useful in statis\u0002tics, when the columns of the left matrix contain a set of regres\u0002sors (a simplified model of the data), and the right matrix con\u0002tains coefficients. The coefficients encode the importance of each\n",
    "regressor, and the goal of statistical model-fitting is to find the\n",
    "best coefficients such that the weighted combination of regressors\n",
    "matches the data.  - **Mike X Cohen: Linear Algebra: Theory, Intuition, Code, 2021. (pp. 146)**"
   ]
  },
  {
   "cell_type": "markdown",
   "id": "007dfd08-5c15-4440-b329-c5610c9751ab",
   "metadata": {},
   "source": [
    "#### Matrix Multiplication using Right Multiplication (Rows)\n",
    "\n",
    "They say a picture is worth a thousand words. The below images are taken from Eli Bendersky's website [here](https://eli.thegreenplace.net/2015/visualizing-matrix-multiplication-as-a-linear-combination/).\n",
    "\n",
    "\n",
    "<img src=\"https://storage.googleapis.com/reighns/reighns_ml_projects/docs/linear_algebra/visualizing-matrix-multiplication-as-a-linear-combination-row-perspective.PNG\" style=\"margin-left:auto; margin-right:auto\"/>\n",
    "<p style=\"text-align: center\">\n",
    "    <b>Matrix Multiplication, Row Perspective; Courtesy of Eli Bendersky</b>\n",
    "</p>\n",
    "\n",
    "##### Significance\n",
    "\n",
    "The row perspective is useful, for example in principal components analysis, where the rows of the right matrix contain data\n",
    "(observations in rows and features in columns) and the rows of the\n",
    "left matrix contain weights for combining the features. Then the\n",
    "weighted sum of data creates the principal component scores.  - **Mike X Cohen: Linear Algebra: Theory, Intuition, Code, 2021. (pp. 147)**"
   ]
  },
  {
   "cell_type": "markdown",
   "id": "884b7649-2b67-476e-bfe4-968907f10e2d",
   "metadata": {},
   "source": [
    "### Matrix Multiplication Properties\n",
    "\n",
    "Read [Wikipedia](https://en.wikipedia.org/wiki/Matrix_multiplication#General_properties). To fill in when free as it is relatively light."
   ]
  },
  {
   "cell_type": "markdown",
   "id": "8e26dd4b-e335-43d4-beec-c938c8f28fc1",
   "metadata": {},
   "source": [
    "### Symmetric Matrices"
   ]
  },
  {
   "cell_type": "markdown",
   "id": "5aaf3a86-a5a1-4a28-a5d9-f5d83201f36e",
   "metadata": {},
   "source": [
    "## Matrix Multiplication (Naive) in Python"
   ]
  },
  {
   "cell_type": "code",
   "execution_count": 38,
   "id": "a45bf70f-9f34-4f70-883b-f3822f22f28b",
   "metadata": {},
   "outputs": [],
   "source": [
    "import torch\n",
    "import numpy as np\n",
    "from typing import Tuple\n",
    "\n",
    "m, n = 4, 2\n",
    "A = torch.randint(0, 10, size=(m,n))\n",
    "B = torch.randint(0, 10, size=(n,m))"
   ]
  },
  {
   "cell_type": "code",
   "execution_count": 46,
   "id": "31ab10cd-4e06-4627-9ee6-71eb32e7a174",
   "metadata": {},
   "outputs": [],
   "source": [
    "def check_matmul_shape(\n",
    "    A: torch.Tensor, B: torch.Tensor\n",
    ") -> Tuple[int, int, int]:\n",
    "    \"\"\"Check if the shape of the matrices A and B are compatible for matrix multiplication.\n",
    "\n",
    "    If A and B are of size (m, n) and (n, p), respectively, then the shape of the resulting matrix is (m, p).\n",
    "\n",
    "    Args:\n",
    "        A (torch.Tensor): The first matrix.\n",
    "        B (torch.Tensor): The second matrix.\n",
    "\n",
    "    Raises:\n",
    "        ValueError: Raises a ValueError if the shape of the matrices A and B are not compatible for matrix multiplication.\n",
    "\n",
    "    Returns:\n",
    "        (Tuple[int, int, int]): (m, n, p) where (m, n) is the shape of A and (n, p) is the shape of B.\n",
    "    \"\"\"\n",
    "\n",
    "    if A.shape[1] != B.shape[0]:\n",
    "        raise ValueError(\n",
    "            f\"The number of columns of A must be equal to the number of rows of B, but got {A.shape[1]} and {B.shape[0]} respectively.\"\n",
    "        )\n",
    "\n",
    "    return (A.shape[0], A.shape[1], B.shape[1])\n",
    "    \n",
    "\n",
    "\n",
    "def torch_matmul(A, B):\n",
    "    # element wise \n",
    "    \n",
    "    num_rows_A, common_index, num_cols_B = check_matmul_shape(A, B)\n",
    "\n",
    "    matmul = torch.zeros(size=(num_rows_A, num_cols_B))\n",
    "    \n",
    "    summation = 0\n",
    "    \n",
    "    # 1st loop: loops through first matrix A\n",
    "    for i in range(num_rows_A):\n",
    "        # 2nd loop: loops through second matrix B\n",
    "        for j in range(num_cols_B):\n",
    "            # 3rd loop: computes dot prod\n",
    "            for k in range(common_index):\n",
    "                matmul[i, j] += A[i, k] * B[k,j]\n",
    "    \n",
    "    return matmul\n",
    "    \n",
    "    \n",
    "    \n",
    "    \n",
    "    "
   ]
  },
  {
   "cell_type": "code",
   "execution_count": 47,
   "id": "b9f52079-69a5-4cbe-93d7-967a47ef27db",
   "metadata": {},
   "outputs": [
    {
     "data": {
      "text/plain": [
       "tensor([[ 35.,  16.,  37.,  35.],\n",
       "        [ 83.,  57.,  72., 112.],\n",
       "        [ 61.,  43.,  52.,  84.],\n",
       "        [ 82.,  48.,  78.,  98.]])"
      ]
     },
     "execution_count": 47,
     "metadata": {},
     "output_type": "execute_result"
    }
   ],
   "source": [
    "matmul = torch.zeros(size=(A.shape[0], B.shape[1]))\n",
    "torch_matmul(A, B)"
   ]
  },
  {
   "cell_type": "code",
   "execution_count": 41,
   "id": "e238aa8b-ec56-4adc-9ed3-31db8a33bb76",
   "metadata": {},
   "outputs": [
    {
     "data": {
      "text/plain": [
       "tensor([[ 35,  16,  37,  35],\n",
       "        [ 83,  57,  72, 112],\n",
       "        [ 61,  43,  52,  84],\n",
       "        [ 82,  48,  78,  98]])"
      ]
     },
     "execution_count": 41,
     "metadata": {},
     "output_type": "execute_result"
    }
   ],
   "source": [
    "A @ B"
   ]
  },
  {
   "cell_type": "markdown",
   "id": "71c83ac0-0718-4e63-95d7-2357b408831e",
   "metadata": {},
   "source": [
    "```\n",
    "* Input: matrices {{mvar|A}} and {{mvar|B}}\n",
    "* Let {{mvar|C}} be a new matrix of the appropriate size\n",
    "* For {{mvar|i}} from 1 to {{mvar|n}}:\n",
    "** For {{mvar|j}} from 1 to {{mvar|p}}:\n",
    "*** Let {{math|sum {{=}} 0}}\n",
    "*** For {{mvar|k}} from 1 to {{mvar|m}}:\n",
    "**** Set {{math|sum ← sum + ''A<sub>ik</sub>'' × ''B<sub>kj</sub>''}}\n",
    "*** Set {{math|''C<sub>ij</sub>'' ← sum}}\n",
    "* Return {{mvar|C}}\n",
    "```"
   ]
  },
  {
   "cell_type": "markdown",
   "id": "4803e1a6-ead4-4e60-90a6-089252788fed",
   "metadata": {},
   "source": [
    "Let \n",
    "$$\\A=\\begin{bmatrix}\n",
    " a_{11} & a_{12} & \\cdots & a_{1n} \\\\\n",
    " a_{21} & a_{22} & \\cdots & a_{2n} \\\\\n",
    "\\vdots & \\vdots & \\ddots & \\vdots \\\\\n",
    " a_{m1} & a_{m2} & \\cdots & a_{mn} \\\\\n",
    "\\end{bmatrix},\\quad\\mathbf{B}=\\begin{bmatrix}\n",
    " b_{11} & b_{12} & \\cdots & b_{1p} \\\\\n",
    " b_{21} & b_{22} & \\cdots & b_{2p} \\\\\n",
    "\\vdots & \\vdots & \\ddots & \\vdots \\\\\n",
    " b_{n1} & b_{n2} & \\cdots & b_{np} \\\\\n",
    "\\end{bmatrix}$$\n",
    "\n",
    "then the **matrix product** $\\C = \\A\\B$ is defined to be the $m \\times p$ matrix:\n",
    "$$\\mathbf{C}=\\A\\B=\\begin{bmatrix}\n",
    " c_{11} & c_{12} & \\cdots & c_{1p} \\\\\n",
    " c_{21} & c_{22} & \\cdots & c_{2p} \\\\\n",
    "\\vdots & \\vdots & \\ddots & \\vdots \\\\\n",
    " c_{m1} & c_{m2} & \\cdots & c_{mp} \\\\\n",
    "\\end{bmatrix}$$\n",
    "\n",
    "where $c_{ij} = a_{i1}b_{1j} + a_{i2}b_{2j} +\\cdots + a_{in}b_{nj}= \\sum_{k=1}^n a_{ik}b_{kj}$ for $i = 1, \\cdots , m$ and $j = 1, \\cdots , p$.\n",
    "\n",
    "That is, the entry $c_{i,j}$ of the product is obtained by multiplying term-by-term the entries of the $i$-th row of $\\A$ and the $j$-th column of $\\B$, and summing these $n$ products. In other words, $c_{i,j}$ is the **dot product** of the $i$-th row of $\\A$ and the $j$-th column of $\\B$.\n",
    "\n",
    "Therefore, $\\C = \\A\\B$ can also be written as\n",
    "\n",
    "$$\\mathbf{C}=\\A\\B=\\begin{bmatrix}\n",
    " a_{11}b_{11} +\\cdots + a_{1n}b_{n1} & a_{11}b_{12} +\\cdots + a_{1n}b_{n2} & \\cdots & a_{11}b_{1p} +\\cdots + a_{1n}b_{np} \\\\\n",
    " a_{21}b_{11} +\\cdots + a_{2n}b_{n1} & a_{21}b_{12} +\\cdots + a_{2n}b_{n2} & \\cdots & a_{21}b_{1p} +\\cdots + a_{2n}b_{np} \\\\\n",
    "\\vdots & \\vdots & \\ddots & \\vdots \\\\\n",
    " a_{m1}b_{11} +\\cdots + a_{mn}b_{n1} & a_{m1}b_{12} +\\cdots + a_{mn}b_{n2} & \\cdots & a_{m1}b_{1p} +\\cdots + a_{mn}b_{np} \\\\\n",
    "\\end{bmatrix} \n",
    "$$\n",
    "\n",
    "Thus the product $\\A\\B$ is defined if and only if the number of columns in $\\A$ equals the number of rows in $\\B$."
   ]
  },
  {
   "cell_type": "markdown",
   "id": "06e217a0-5d41-4c0a-8a0a-8a81d33a71d6",
   "metadata": {},
   "source": [
    "## References\n",
    "\n",
    "- https://eli.thegreenplace.net/2015/visualizing-matrix-multiplication-as-a-linear-combination/\n",
    "- https://math.stackexchange.com/questions/192835/fastest-and-intuitive-ways-to-look-at-matrix-multiplication\n",
    "- https://math.stackexchange.com/questions/24456/matrix-multiplication-interpreting-and-understanding-the-process"
   ]
  }
 ],
 "metadata": {
  "kernelspec": {
   "display_name": "Python 3 (ipykernel)",
   "language": "python",
   "name": "python3"
  },
  "language_info": {
   "codemirror_mode": {
    "name": "ipython",
    "version": 3
   },
   "file_extension": ".py",
   "mimetype": "text/x-python",
   "name": "python",
   "nbconvert_exporter": "python",
   "pygments_lexer": "ipython3",
   "version": "3.9.9"
  }
 },
 "nbformat": 4,
 "nbformat_minor": 5
}

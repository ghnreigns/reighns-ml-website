{
 "cells": [
  {
   "cell_type": "markdown",
   "id": "62ee0323-72dd-4c08-ad8d-e05a6fa9e63e",
   "metadata": {},
   "source": [
    "$$\n",
    "\\newcommand{\\F}{\\mathbb{F}}\n",
    "\\newcommand{\\R}{\\mathbb{R}}\n",
    "\\newcommand{\\v}{\\mathbf{v}}\n",
    "\\newcommand{\\a}{\\mathbf{a}}\n",
    "\\newcommand{\\b}{\\mathbf{b}}\n",
    "\\newcommand{\\c}{\\mathbf{c}}\n",
    "\\newcommand{\\w}{\\mathbf{w}}\n",
    "\\newcommand{\\u}{\\mathbf{u}}\n",
    "\\newcommand{\\0}{\\mathbf{0}}\n",
    "\\newcommand{\\1}{\\mathbf{1}}\n",
    "$$"
   ]
  },
  {
   "cell_type": "markdown",
   "id": "5530bbd4-0c65-4136-849f-05b9e9368296",
   "metadata": {},
   "source": [
    "The following notes use reference from **Mike X Cohen: Linear Algebra: Theory, Intuition, Code, 2021.**, **Sheldon Axler: Linear Algebra Done Right, 2015.** and **Wikipedia** for intuitions, examples, formal definitions and theorems. Since I am at the introductory chapters, I will breeze through them until vector spaces."
   ]
  },
  {
   "cell_type": "markdown",
   "id": "5106653a-3c43-457c-bebe-175225e3b111",
   "metadata": {},
   "source": [
    "## Table of Contents\n",
    "\n",
    "* [Learning Objectives](#1)\n",
    "* [Field](#1)\n",
    "    * [Definition (Field)](#Import_modules_offline)\n",
    "    * [Examples of Fields](#Import_other_modules)\n",
    "    * [Notation of Fields](#11)\n",
    "    * [Summary of Fields](#11)\n",
    "* [Vectors](#2)\n",
    "    * [Geometric Definition (Vectors)](#11)\n",
    "        * [Vector is Invariant under Coordinates](#11)\n",
    "    * [Algebraic Definition (Vectors)](#11)\n",
    "    * [Equality of Vectors](#11)\n",
    "    * [Vector Orientation](#11)\n",
    "        * [Example of Column and Row Vectors](#11)\n",
    "    * [Transposed Vector](#11)\n",
    "        * [Definition (Transposed Vector)](#11)\n",
    "    * [Vector Addition and Subtraction](#11)\n",
    "        * [Algebraic Definition](#11)\n",
    "        * [Geometric Definition](#11)\n",
    "        * [Vector Addition is Commutative](#11)"
   ]
  },
  {
   "cell_type": "markdown",
   "id": "94e795ee-d38d-487a-90a3-eda00f33d7f6",
   "metadata": {},
   "source": [
    "!!! summary \"Learning Objectives\"\n",
    "    - Definition of a Field\n",
    "    - Definition of a Vector\n",
    "        - Vector Operations with both Algebraic and Geometric understanding."
   ]
  },
  {
   "cell_type": "markdown",
   "id": "66b27718-f14b-4fe8-a56d-30e748f5007b",
   "metadata": {
    "tags": []
   },
   "source": [
    "## Field\n",
    "\n",
    "!!! info\n",
    "    The treatment of the idea (definition) of a **field** is stated first. As we venture into the vector spaces, we can connect back with the idea of a field.\n",
    "\n",
    "### Definition (Field)\n",
    "\n",
    "!!! success \"Definition\"\n",
    "    A field[^field_def] is an ordered quintuple, $(\\F,+,0;\\times,1)$, where $\\F$ is a set, $+\\colon \\F\\times \\F \\to \\F$ and $\\times\\colon \\F \\times \\F\\to \\F$ are well defined binary operations[^well_defined] such that:\n",
    "\n",
    "    - $\\textbf{Well Defined}$: For all $a, b \\in \\F$, we have $a + b \\in \\F$ and $a \\times b \\in \\F$. \n",
    "\n",
    "    - $\\textbf{Commutative Law for Addition}$: For all $a,b \\in \\F$, $a+b = b+a$.\n",
    "\n",
    "    - $\\textbf{Associative Law for Addition}$: For all $a,b,c \\in \\F$, $(a+b)+c = a+(b+c)$.\n",
    "\n",
    "    - $\\textbf{Existence of the Additive Identity}$: There exists $0 \\in \\F$ such that $\\mathbf{0}+a=a+\\mathbf{0}=a$ for all $a\\in \\F$.\n",
    "\n",
    "        In other words, an additive identity for the set $\\F$ is any element $e$ such that for any element $x \\in \\F$, we have $e + x = x = x + e$. In our familiar fields like the Real Numbers $\\R$, our additive identity is $\\mathbf{0}$.\n",
    "\n",
    "    - $\\textbf{Existence of Additive Inverse}$: For every $a \\in \\F$ there exists $b\\in \\F$ such that $a+b=b+a=0$. We call $b$ the additive inverse and denote $b$ by $-a$.\n",
    "\n",
    "    - $\\textbf{Commutative Law for Multiplication}$: For all $a,b \\in \\F$, $ab = ba$.\n",
    "\n",
    "    - $\\textbf{Associative Law for Multiplication}$: For all $a,b,c \\in \\F$, $(ab)c = a(bc)$\n",
    "\n",
    "    - $\\textbf{Existence of the Multiplicative Identity}$: There exists $\\mathbf{1}\\in \\F$ such that $\\mathbf{1} \\times a = a\\times \\mathbf{1} = a$ for all $a\\in \\F$.\n",
    "\n",
    "    - $\\textbf{Existence of Multiplicative Inverse}$: For every $a\\in \\F$, $a\\neq 0$, there exists $b\\in \\F$ such that $a\\times b = b\\times a = 1$. We call $b$ the multiplicative inverse of $a$ and denote $b$ to be $a^{-1}$.\n",
    "\n",
    "    - $\\textbf{Distributive Law}$:\n",
    "        - $\\times$ distributes over $+$ on the left: for all $a,b,c\\in \\F$, $a\\times(b+c) = (a\\times b)+(a\\times c)$.\n",
    "        - $\\times$ distributes over $+$ on the right: for all $a,b,c\\in \\F$, $(b+c)\\times a = (b\\times a)+(c\\times a)$.\n",
    "\n",
    "\n",
    "    [^field_def]: https://en.wikipedia.org/wiki/Field_(mathematics) \n",
    "    [^well_defined]: https://en.wikipedia.org/wiki/Closure_(mathematics) Well defined meaning closure for addition and multiplication is satisfied.\n",
    "\n",
    "---\n",
    "\n",
    "### Examples of Fields\n",
    "\n",
    "!!! example \"Example\"\n",
    "    For the number system, $\\mathbb{Q}, \\mathbb{R}, \\mathbb{C}$ are all fields while $\\mathbb{N}, \\mathbb{Z}$ are not fields. \n",
    "\n",
    "    - One can easily verify that $\\mathbb{R}$ is a field by the definition above.\n",
    "    - To show that a set is not a field, $\\mathbb{N}$ for example, it suffices to find one single counter example that do not fulfill the definition, in this case, $\\textbf{Existence of Additive Inverse}$ is not fulfilled, as there **does not exist** any element in the natural number system that has the additive inverse, i.e. pick a natural number, say number 1, the additive inverse is $-1$ but $-1$ is not in $\\mathbb{N}$.\n",
    "\n",
    "    There is a particular field called $\\F_2 = \\{0,1\\}$. Where $0$ is the additive identity and $1$ is the multiplicative identity.\n",
    "    \n",
    "---\n",
    "\n",
    "### Notation of Fields\n",
    "\n",
    "Following the book [Linear Algebra Done Right](https://linear.axler.net/), we will also claim the following:\n",
    "\n",
    "!!! note \"Notation\"\n",
    "    $\\F$ will stand for either $\\R$ or $\\mathbb{C}$ throughout.\n",
    "    \n",
    "---\n",
    "\n",
    "### Summary of Fields\n",
    "\n",
    "!!! summary \"Summary\"\n",
    "    - We can think of **Field** as a \"space\" (read: Real Numbers) where operations such as **addition and multiplication** are **well defined** (read: makes sense). **Elements** residing in a **Field** has to obey some rules.\n",
    "    - **Elements** in a **Field** are called **scalars** (keep a mental note here the distinction of a **scalar** and later, **vector**)."
   ]
  },
  {
   "cell_type": "markdown",
   "id": "a0146520-e508-4a7b-b1e3-6b15a777c2dc",
   "metadata": {},
   "source": [
    "## Vectors"
   ]
  },
  {
   "cell_type": "markdown",
   "id": "3407398e-a721-4100-aa98-89e33ebd9021",
   "metadata": {},
   "source": [
    "### Geometric Definition (Vectors)\n",
    "\n",
    "!!! success \"Definition\"\n",
    "    A **vector** can be interpretated as an geometric object (line) that are determined by **magnitude** and **direction**.\n",
    "\n",
    "One thing to note is that a **vector** is different from a **coordinate/point**:\n",
    "\n",
    "> Consider the following diagram 2.3, the three coordinates (circles) are distinct, but the three vectors (lines) are the same, that is because all 3 vectors can be **described** by \"move from the start 1 unit to the right, and 2 units down\" (read: all 3 vectors have the same magnitude and direction and can be represented by the vector $[1 -2]$). When the vector is in its standard position (the black vector), the head of the vector $[1 -2]$ overlaps with the coordinate $[1 -2]$. - **Mike X Cohen: Linear Algebra: Theory, Intuition, Code, 2021. (pp. 25)**\n",
    "\n",
    "<figure>\n",
    "<img src='https://storage.googleapis.com/reighns/reighns_ml_projects/docs/linear_algebra/linear_algebra_theory_intuition_code_chap2_fig_2.3.PNG' width=\"350\" height=\"350\" align=\"center\"/>\n",
    "<figcaption align = \"center\"><b>Fig 2.3; Courtesy of Linear Algebra: Theory, Intuition, Code by Mike X Cohen</b></figcaption>\n",
    "</figure>"
   ]
  },
  {
   "cell_type": "markdown",
   "id": "ba1f4632-4a89-4b8b-a4d4-a42390f9ce75",
   "metadata": {},
   "source": [
    "#### Vector is Invariant under Coordinates\n",
    "\n",
    "The **geometric interpretation** is important and it deserves a spot of its own, we often say that a **vector is invariant under coordinates**[^Vector is Invariant under Coordinates].\n",
    "\n",
    "> A given vector is the same vector, regardless of how we identify its coordinates with respect to a particular basis. The vector is pointing in a certain direction, with a certain length, in space. If you \"moved space around the vector\" but left the vector alone, its coordinates would change, but it would still be the same vector. That's just another way of looking at expressing a vector in a different basis. At this stage, going deep into basis will be too much, but just think of basis of our point of reference, and in our case, we are using the origin as our point of reference.\n",
    "\n",
    "[^Vector is Invariant under Coordinates]: https://www.physicsforums.com/threads/what-does-it-mean-for-a-vector-to-remain-invariant-under-coordinate-transformation.517681/"
   ]
  },
  {
   "cell_type": "markdown",
   "id": "5434109b-98bd-47a6-a4bb-28e1eff5a951",
   "metadata": {},
   "source": [
    "### Algebraic Definition (Vectors)\n",
    "\n",
    "!!! warning\n",
    "    The algebraic definition of **vectors** vary from different texts, though the idea is organically the same. We will pick one and stick to it!\n",
    "\n",
    "!!! success \"Definition\"\n",
    "    For a field $\\F$ and a positive integer $n$, a **vector** $\\v$ with $n$ entries $v_1, v_2, \\cdots, v_n$, each $v_i$ belonging to $\\F$, is called an $n$-vector over $\\F$. In particular, $\\v$ is **ordered** and can be represented mathematically as:\n",
    "    \n",
    "    $$\\v = \\{(v_1, v_2, \\cdots, v_n) ~|~ v_i \\in \\F\\}$$\n",
    "    \n",
    "    The set of $n$-vectors over $\\F$ is denoted $\\F^n$. We will deal with this more in vector spaces, just keep a mental note here."
   ]
  },
  {
   "cell_type": "markdown",
   "id": "eadc09a7-fd67-451b-8225-9e863b06c1e4",
   "metadata": {},
   "source": [
    "### Equality of Vectors\n",
    "\n",
    "!!! success \"Definition\"\n",
    "    - By definition of the geometrical interpretation of vectors, two vectors are **equal if and only if they have the same magnitude in the same direction**, which is why even though figure 2.3's 3 vectors look visually different, but are actually the same vector. \n",
    "    - By definition of the algebraical interpretation of vectors, two vectors $\\v_1$ and $\\v_2$ are **equal if and only if each elements of** $\\v_1$ is equal to $\\v_2$."
   ]
  },
  {
   "cell_type": "markdown",
   "id": "06fa16ed-877b-4dda-9e5e-a9ecaab49bd0",
   "metadata": {},
   "source": [
    "### Vector Orientation\n",
    "\n",
    "A **column vector** $\\v \\in \\R^n$ is defined as:\n",
    "\n",
    "$$\\v = \\begin{bmatrix}v_1 \\\\ v_2 \\\\ \\vdots \\\\ v_n \\\\ \\end{bmatrix}$$\n",
    "\n",
    "and a **row vector** $\\v \\in \\R^n$:\n",
    "\n",
    "$$\n",
    "\\v = \n",
    "\\begin{bmatrix}\n",
    "v_1 & v_2 & \\cdots & v_n\n",
    "\\end{bmatrix}\n",
    "$$\n",
    "\n",
    "---\n",
    "\n",
    "!!! info\n",
    "    By convention, a vector $\\v$ is a column vector unless stated otherwise."
   ]
  },
  {
   "cell_type": "markdown",
   "id": "d68cc418-6423-43c1-83fa-c5ab3b2fb697",
   "metadata": {},
   "source": [
    "#### Example of Column and Row Vectors\n",
    "\n",
    "The author from [Linear Algebra: Theory, Intuition, Code](https://www.amazon.com/Linear-Algebra-Theory-Intuition-Code/dp/9083136604) gave some examples in python, I've added my own comments below."
   ]
  },
  {
   "cell_type": "code",
   "execution_count": 8,
   "id": "77516b3a-06c1-45bd-b4ee-27f11935e8a7",
   "metadata": {},
   "outputs": [
    {
     "name": "stdout",
     "output_type": "stream",
     "text": [
      "v: [1 2 3]\n",
      "v shape: (3,)\n",
      "col_v: \n",
      "[[1]\n",
      " [2]\n",
      " [3]]\n",
      "col_v shape: (3, 1)\n",
      "row_v: [[1 2 3]]\n",
      "row_v shape: (1, 3)\n"
     ]
    }
   ],
   "source": [
    "import numpy as np\n",
    "\n",
    "# array, no orientation\n",
    "v = np.array([1, 2, 3])\n",
    "print(f\"v: {v}\")\n",
    "print(f\"v shape: {v.shape}\")\n",
    "\n",
    "# col. vector, note that the shape is (3, 1), means a 3 by 1 vector\n",
    "col_v = np.array([[1], [2], [3]])\n",
    "print(f\"col_v: \\n{col_v}\")\n",
    "print(f\"col_v shape: {col_v.shape}\")\n",
    "\n",
    "# row vector, note that the shape is (1, 3), means a 1 by 3 vector\n",
    "row_v = np.array([[1, 2, 3]])\n",
    "print(f\"row_v: {row_v}\")\n",
    "print(f\"row_v shape: {row_v.shape}\")"
   ]
  },
  {
   "cell_type": "markdown",
   "id": "a415d3bd-ab08-422c-9757-06514a756529",
   "metadata": {},
   "source": [
    "### Transposed Vector"
   ]
  },
  {
   "cell_type": "markdown",
   "id": "7bc6de73-d480-4a26-9104-2bb125f267e5",
   "metadata": {},
   "source": [
    "#### Definition (Transposed Vector)\n",
    "\n",
    "!!! success \"Definition\"\n",
    "    By definition, the transpose of a row vector $\\v$ is defined as:\n",
    "\n",
    "    $$\\begin{bmatrix} x_1 \\; x_2 \\; \\dots \\; x_m \\end{bmatrix}^{\\rm T} = \\begin{bmatrix} x_1 \\\\ x_2 \\\\ \\vdots \\\\ x_m \\end{bmatrix}$$\n",
    "\n",
    "    We can also tranpose a column vector to get the row vector. Worth mentioning that for any $\\v \\in \\R^n$, $\\v^\\top = (\\v^\\top)^\\top$."
   ]
  },
  {
   "cell_type": "markdown",
   "id": "ceb4c0b6-46a2-4b28-8832-b43c47859429",
   "metadata": {},
   "source": [
    "### Vector Addition and Subtraction"
   ]
  },
  {
   "cell_type": "markdown",
   "id": "677d3601-4b37-49ac-a001-105f6a383eab",
   "metadata": {},
   "source": [
    "#### Algebraic Definition (Vector Addition and Subtraction)\n",
    "\n",
    "We will go through the algebra definition first as it is easier to understand.\n",
    "\n",
    "!!! success \"Definition\"\n",
    "    For any vector $\\mathbf{a}, \\mathbf{b} \\in \\R^n$, the vector addition and subtraction can be defined as follows:\n",
    "\n",
    "    $$\\mathbf{a} \\pm \\mathbf{b} =  \\begin{bmatrix} a_1 \\pm b_1 \\; a_2 \\pm b_2 \\; \\dots \\; a_n \\pm b_n \\end{bmatrix}^{\\rm T}$$"
   ]
  },
  {
   "cell_type": "markdown",
   "id": "3a41bf23-8417-44b0-b218-38ab203a12d7",
   "metadata": {},
   "source": [
    "#### Geometric Definition (Vector Addition and Subtraction)\n",
    "\n",
    "The geometry intuition is best done with examples, with some reference from [Linear Algebra: Theory, Intuition, Code](https://www.amazon.com/Linear-Algebra-Theory-Intuition-Code/dp/9083136604). Consider the vector \n",
    "\n",
    "$$\n",
    "\\v_1 = \n",
    "\\begin{bmatrix}\n",
    "1 & 2\n",
    "\\end{bmatrix}^\\top, \\v_2 = \n",
    "\\begin{bmatrix}\n",
    "2 & 0.1\n",
    "\\end{bmatrix}^\\top\n",
    "$$\n",
    "\n",
    "corresponding to $\\v_1$ and $\\v_2$ in the diagram respectively.\n",
    "\n",
    "##### Vector Addition\n",
    "\n",
    "From top left of figure 2.5:\n",
    "\n",
    "> To add two vectors $\\v_1$ and $\\v_2$, we first draw out vector $\\v_1$ and $\\v_2$ using $0$ as the origin point. Then, the first way is to just look at one of the vector, say $\\v_1$, and adding $\\v_2$ just means at the head of the vector $\\v_1$, move $0.1$ units to the right on the x-axis, and $2$ units upwards on the y-axis to reach $\\v_1+b = \\begin{bmatrix} 3 & 2.1 \\end{bmatrix}^\\top$.\n",
    "> Another way is to put the start (tail) of vector $\\v_2$ at the end (head) of vector $\\v_1$. \n",
    "\n",
    "> But in the diagram, the head of $\\v_1$ does not \"directly connect to\" the tail of $\\v_2$. This is where we revisit our **definition of vectors interpreted geometrically**. Remember that vectors are defined by their direction and magnitude, so if one moves vector $\\v_2$ from $\\begin{bmatrix} 2 & 0.1 \\end{bmatrix}^\\top$ to exactly where the head of $\\v_1$ is, then this is the head-to-tail method detailed in the previous paragraph. Note that to be exact, we moved $\\v_2$ up by $1.9$ units and left by $1$ unit, and we can do this because we are not actually changing the direction and the magnitude of the vector $\\v_2$.\n",
    "\n",
    "---\n",
    "\n",
    "##### Vector Subtraction\n",
    "\n",
    "There are two ways to look at subtraction. \n",
    "\n",
    "> First way: we know that $\\v_1 - \\v_2 = \\v_1 + (-\\v_2)$ and thus we can translate the subtraction problem to addition by multiplying one of the vector, here is $\\v_2$ by $-1$. Note that $-1 \\cdot \\v_2 = \\begin{bmatrix} -2 & -0.1 \\end{bmatrix}^\\top$. And then we can use back vector addition. Note that we should bear in mind that we can \"move\" the vectors freely so that the head-to-tail rules can be applied.\n",
    "\n",
    "> Second way: The second way to think about vector subtraction is to keep both\n",
    "vectors in their standard position, and draw the line that goes\n",
    "from the head of the subtracted vector (the one with the minus\n",
    "sign) to the head of the other vector (the one without the minus\n",
    "sign) (Figure 2.5, lower right). That resulting vector is the difference. It’s not in standard position, but that doesn’t matter.  - **Mike X Cohen: Linear Algebra: Theory, Intuition, Code, 2021. (pp. 32)** \n",
    "\n",
    "\n",
    "---\n",
    "\n",
    "> Something worth noting is $\\v_1 - \\v_2 = -(\\v_2 - \\v_1)$. This means that geometrically $\\v_1 - \\v_2$ is flipping $\\v_2 - \\v_1$ 180 degrees.\n",
    "\n",
    "<div class=\"container\" style=\"display: inline-block;\">  \n",
    "  <figure>\n",
    "  <div style=\"float: left; padding: 10px;\">\n",
    "    <img src='https://storage.googleapis.com/reighns/reighns_ml_projects/docs/linear_algebra/linear_algebra_theory_intuition_code_chap2_fig_2.5.PNG' width=\"350\" height=\"350\" align=\"center\"/>\n",
    "    <figcaption align=\"center\"><b>Fig 2.5; Courtesy of Linear Algebra: Theory,<br> Intuition, Code by Mike X Cohen</b></figcaption>\n",
    "  </div>\n",
    "\n",
    "  <div style=\"float: right; padding: 10px;\">\n",
    "    <img src='https://storage.googleapis.com/reighns/reighns_ml_projects/docs/linear_algebra/linear_algebra_theory_intuition_code_chap2_fig_2.52_vector_scalar_add_sub_hn.PNG' width=\"350\" height=\"350\" align=\"center\"/>\n",
    "    <figcaption align=\"center\"><b>Fig 2.52; Vector Addition and Subtraction</b></figcaption>\n",
    "  </div>\n",
    "  </figure>\n",
    "</div>"
   ]
  },
  {
   "cell_type": "markdown",
   "id": "80a9d141-3386-47f6-8d29-054524a6d632",
   "metadata": {
    "tags": []
   },
   "source": [
    "#### Vector Addition is Commutative\n",
    "\n",
    "!!! info\n",
    "    Although we have not formally define a **vector field**, we can chime in now and say that if a set of vectors $V$ are defined over a field $\\F$, then all vectors in $V$ are **commutative** by definition of a **Field**. Therefore, the vector addition example can be done from $\\b$ to $\\a$ instead of $\\a$ to $\\b$. The power of defining objects over a field is that any vectors over this $\\F$ must obey all the rules/laws above, and commutative is one of them."
   ]
  }
 ],
 "metadata": {
  "kernelspec": {
   "display_name": "Python 3 (ipykernel)",
   "language": "python",
   "name": "python3"
  },
  "language_info": {
   "codemirror_mode": {
    "name": "ipython",
    "version": 3
   },
   "file_extension": ".py",
   "mimetype": "text/x-python",
   "name": "python",
   "nbconvert_exporter": "python",
   "pygments_lexer": "ipython3",
   "version": "3.9.9"
  }
 },
 "nbformat": 4,
 "nbformat_minor": 5
}

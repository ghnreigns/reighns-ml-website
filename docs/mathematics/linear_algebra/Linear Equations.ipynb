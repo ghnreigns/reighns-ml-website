{
 "cells": [
  {
   "cell_type": "markdown",
   "id": "3fdda7e6-8fa1-4ec7-8cdf-6de4a111b46c",
   "metadata": {
    "id": "3fdda7e6-8fa1-4ec7-8cdf-6de4a111b46c"
   },
   "source": [
    "$$\\newcommand{\\F}{\\mathbb{F}}\n",
    "\\newcommand{\\R}{\\mathbb{R}}\n",
    "\\newcommand{\\v}{\\mathbf{v}}\n",
    "\\newcommand{\\a}{\\mathbf{a}}\n",
    "\\newcommand{\\b}{\\mathbf{b}}\n",
    "\\newcommand{\\c}{\\mathbf{c}}\n",
    "\\newcommand{\\p}{\\mathbf{p}}\n",
    "\\newcommand{\\w}{\\mathbf{w}}\n",
    "\\newcommand{\\u}{\\mathbf{u}}\n",
    "\\newcommand{\\x}{\\mathbf{x}}\n",
    "\\newcommand{\\y}{\\mathbf{y}}\n",
    "\\newcommand{\\z}{\\mathbf{z}}\n",
    "\\newcommand{\\0}{\\mathbf{0}}\n",
    "\\newcommand{\\1}{\\mathbf{1}}\n",
    "\\newcommand{\\A}{\\mathbf{A}}\n",
    "\\newcommand{\\B}{\\mathbf{B}}\n",
    "\\newcommand{\\C}{\\mathbf{C}}\n",
    "\\newcommand{\\E}{\\mathbf{E}}\n",
    "\\newcommand{\\P}{\\mathbf{P}}$$"
   ]
  },
  {
   "cell_type": "markdown",
   "id": "97c2cbbb-cf59-46d3-a4ab-87a7fa1f907a",
   "metadata": {},
   "source": [
    "# https://en.wikipedia.org/wiki/System_of_linear_equations\n",
    "\n",
    "# Chapter on the book and Macro Analyst"
   ]
  },
  {
   "cell_type": "markdown",
   "id": "6b626ba1-a9b4-44d0-b378-4b78b17e0715",
   "metadata": {},
   "source": [
    "#### Left Multiplication (Linear Combination of Rows)\n",
    "\n",
    "This part is also necessary to better understand matrix multiplication later."
   ]
  },
  {
   "cell_type": "markdown",
   "id": "c443d701-5d11-4d51-855d-b5fc45554596",
   "metadata": {},
   "source": [
    "##### Example (Left Multiplication)\n",
    "\n",
    "We motivate this with an example.\n",
    "\n",
    "Given a 3 by 3 matrix $A = \\begin{bmatrix} x_1 & y_1 & z_1 \\\\ x_2 & y_2 & z_2 \\\\ x_3 & y_3 & z_3 \\\\ \\end{bmatrix}$ and $\\x = \\begin{bmatrix} a & b & c \\end{bmatrix}$ then \n",
    "\n",
    "$$\\x\\A = \\begin{bmatrix} a & b & c \\end{bmatrix} \\begin{bmatrix} x_1 & y_1 & z_1 \\\\ x_2 & y_2 & z_2 \\\\ x_3 & y_3 & z_3 \\\\ \\end{bmatrix} = \\begin{bmatrix} ax_1+bx_2+cx_3 & ay_1+by_2+cy_3 & az_1+bz_2+cz_3 \\end{bmatrix}$$\n",
    "\n",
    "But notice that the above can also be written as:\n",
    "\n",
    "$$\\x\\A = \\begin{bmatrix} x_1 & y_1 & z_1 \\\\ x_2 & y_2 & z_2 \\\\ x_3 & y_3 & z_3 \\\\ \\end{bmatrix} = \\begin{bmatrix} ax_1+bx_2+cx_3 & ay_1+by_2+cy_3 & az_1+bz_2+cz_3 \\end{bmatrix}\n",
    "= \\color{red}{a}\\begin{bmatrix} x_1 & y_1 & z_1 \\end{bmatrix} + \\color{green}{b}\\begin{bmatrix} x_2 & y_2 & z_2 \\end{bmatrix} + \\color{blue}{c}\\begin{bmatrix} x_3 & y_3 & z_3 \\end{bmatrix}$$\n",
    "\n",
    "**Notice that now $\\x\\A$ is just a linear combination of the rows of $\\A$.**"
   ]
  },
  {
   "cell_type": "markdown",
   "id": "73cf950e-826b-4ecd-82ec-10965f3f3787",
   "metadata": {},
   "source": [
    "#### Matrix Multiplication using Left Multiplication (Rows)\n",
    "\n",
    "Using back the notation in the **Element Wise Matrix Multiplication**, we can define \n",
    "\n",
    "$$\\A\\B = \\begin{bmatrix}\\a_1 \\\\ \\a_2 \\\\  \\vdots \\\\ \\a_m \\end{bmatrix}\\B = \\begin{bmatrix}\\a_1\\B \\\\ \\a_2\\B \\\\  \\vdots \\\\ \\a_m\\B \\end{bmatrix}$$\n",
    "\n",
    "where $\\a_i$ is the row $i$ of the matrix $\\A$. This means that each row of the matrix $\\C = \\A\\B$ is defined by $\\a_i\\B$, and recall in the section \"Matrix-Vector Left Multiplication\", $\\a_i\\B$ means a linear combination of the row of $\\B$ with weight coefficients in $\\a_i$. This becomes apparent when we come to the chapter of **Row-Echolon Form**. \n",
    "\n",
    "---\n",
    "\n",
    "They say a picture is worth a thousand words. The below images are taken from Eli Bendersky's website [here](https://eli.thegreenplace.net/2015/visualizing-matrix-multiplication-as-a-linear-combination/).\n",
    "\n",
    "\n",
    "<img src=\"https://storage.googleapis.com/reighns/reighns_ml_projects/docs/linear_algebra/visualizing-matrix-multiplication-as-a-linear-combination-row-perspective.PNG\" style=\"margin-left:auto; margin-right:auto\"/>\n",
    "<p style=\"text-align: center\">\n",
    "    <b>Matrix Multiplication, Row Perspective; Courtesy of Eli Bendersky</b>\n",
    "</p>\n",
    "\n",
    "##### Significance\n",
    "\n",
    "The row perspective is useful, for example in principal components analysis, where the rows of the right matrix contain data\n",
    "(observations in rows and features in columns) and the rows of the\n",
    "left matrix contain weights for combining the features. Then the\n",
    "weighted sum of data creates the principal component scores.  - **Mike X Cohen: Linear Algebra: Theory, Intuition, Code, 2021. (pp. 147)**"
   ]
  },
  {
   "cell_type": "markdown",
   "id": "112ff07f-6262-48fd-af92-3a68470d364b",
   "metadata": {},
   "source": [
    "Row Exchange:\n",
    "$$\n",
    "\\begin{align}\n",
    "x_1- 2x_2+x_3&=0\\\\\n",
    "2x_2-8x_3&=8\\\\\n",
    "-4x_1+5x_2+9x_3&=-9\n",
    "\\end{align}\n",
    "$$\n",
    "\n",
    "vs\n",
    "\n",
    "$$\n",
    "\\begin{align}\n",
    "2x_2-8x_3&=8\\\\\n",
    "x_1- 2x_2+x_3&=0\\\\\n",
    "-4x_1+5x_2+9x_3&=-9\n",
    "\\end{align}\n",
    "$$\n",
    "\n",
    "has no difference, we just swapped row 1 and 2. We can do the same in matrix for conveince.\n",
    "\n",
    "Also, given\n",
    "\n",
    "$$\n",
    "\\P = \\begin{bmatrix} 0 & 1 & 0 \\\\ 1 & 0 & 0 \\\\ 0 & 0 & 1 \\\\ \\end{bmatrix}\n",
    ",\\quad\n",
    "\\A = \\begin{bmatrix} 1 & 2 & 3 \\\\ 4 & 5 & 6 \\\\ 7 & 8 & 9 \\\\ \\end{bmatrix}\n",
    "$$\n",
    "\n",
    "then \n",
    "\n",
    "$$\\P\\A = \\begin{bmatrix} 0 & 1 & 0 \\\\ 1 & 0 & 0 \\\\ 0 & 0 & 1 \\\\ \\end{bmatrix} \\begin{bmatrix} 1 & 2 & 3 \\\\ 4 & 5 & 6 \\\\ 7 & 8 & 9 \\\\ \\end{bmatrix} = \\begin{bmatrix} 4 & 5 & 6 \\\\ 1 & 2 & 3 \\\\ 7 & 8 & 9 \\\\ \\end{bmatrix}$$\n",
    "\n",
    "and notice that row 1 and 2 are swapped by the left multiplication of the permutation matrix $\\P$. Why did it worked?\n",
    "\n",
    "Recall now\n",
    "\n",
    "$$\\P\\A = \\begin{bmatrix}\\ \\p_1 \\\\ \\p_2 \\\\  \\p_3 \\end{bmatrix}\\A = \\begin{bmatrix}\\p_1\\A \\\\ \\p_2\\A \\\\ \\p_3\\A \\end{bmatrix}$$\n",
    "\n",
    "We just look at the first row of $\\P\\A$ given by $\\p_1\\A$ which maps to the first row of $\\P\\A$.\n",
    "\n",
    "$$\\p_1\\A = 0 \\begin{bmatrix} 1 & 2 & 3 \\end{bmatrix} + 1 \\begin{bmatrix} 4 & 5 & 6 \\end{bmatrix} + 0 \\begin{bmatrix} 7 & 8 & 9 \\end{bmatrix} = \\begin{bmatrix} 4 & 5 & 6 \\end{bmatrix}$$\n",
    "\n",
    "Then the rest is the same logic:\n",
    "\n",
    "$$\\p_2\\A = 1 \\begin{bmatrix} 1 & 2 & 3 \\end{bmatrix} + 0 \\begin{bmatrix} 4 & 5 & 6  \\end{bmatrix} + 0 \\begin{bmatrix} 7 & 8 & 9 \\end{bmatrix} = \\begin{bmatrix} 1 & 2 & 3 \\end{bmatrix}$$\n",
    "\n",
    "$$\\p_3\\A = 0 \\begin{bmatrix} 1 & 2 & 3 \\end{bmatrix} + 0 \\begin{bmatrix} 4 & 5 & 6  \\end{bmatrix} + 1 \\begin{bmatrix} 7 & 8 & 9  \\end{bmatrix} = \\begin{bmatrix} 7 & 8 & 9 \\end{bmatrix}$$\n",
    "\n",
    "We now see why through **Matrix Multiplication (Left row wise)** that the **Permutation Matrix** works the way it is!"
   ]
  }
 ],
 "metadata": {
  "colab": {
   "collapsed_sections": [],
   "name": "04_linear_algebra_vector_spaces_vector_span.ipynb",
   "provenance": []
  },
  "kernelspec": {
   "display_name": "Python 3 (ipykernel)",
   "language": "python",
   "name": "python3"
  },
  "language_info": {
   "codemirror_mode": {
    "name": "ipython",
    "version": 3
   },
   "file_extension": ".py",
   "mimetype": "text/x-python",
   "name": "python",
   "nbconvert_exporter": "python",
   "pygments_lexer": "ipython3",
   "version": "3.9.9"
  }
 },
 "nbformat": 4,
 "nbformat_minor": 5
}

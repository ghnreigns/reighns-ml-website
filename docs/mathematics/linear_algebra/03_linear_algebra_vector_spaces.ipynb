{
 "cells": [
  {
   "cell_type": "markdown",
   "id": "3fdda7e6-8fa1-4ec7-8cdf-6de4a111b46c",
   "metadata": {},
   "source": [
    "$$\\newcommand{\\F}{\\mathbb{F}}\n",
    "\\newcommand{\\R}{\\mathbb{R}}\n",
    "\\newcommand{\\v}{\\mathbf{v}}\n",
    "\\newcommand{\\a}{\\mathbf{a}}\n",
    "\\newcommand{\\b}{\\mathbf{b}}\n",
    "\\newcommand{\\c}{\\mathbf{c}}\n",
    "\\newcommand{\\w}{\\mathbf{w}}\n",
    "\\newcommand{\\u}{\\mathbf{u}}\n",
    "\\newcommand{\\x}{\\mathbf{x}}\n",
    "\\newcommand{\\y}{\\mathbf{y}}\n",
    "\\newcommand{\\z}{\\mathbf{z}}\n",
    "\\newcommand{\\0}{\\mathbf{0}}\n",
    "\\newcommand{\\1}{\\mathbf{1}}\n",
    "\\newcommand{\\A}{\\mathbf{A}}\n",
    "\\newcommand{\\B}{\\mathbf{B}}\n",
    "\\newcommand{\\C}{\\mathbf{C}}$$"
   ]
  },
  {
   "cell_type": "markdown",
   "id": "a8735b2d-6e7d-4d5a-a417-4742bd5114f5",
   "metadata": {},
   "source": [
    "## Vector Spaces"
   ]
  },
  {
   "cell_type": "markdown",
   "id": "901c6fdd-d176-4ec0-bd02-f8f5783c336c",
   "metadata": {},
   "source": [
    "### Notations\n",
    "\n",
    "For this section, we will treat our field $\\F$ to be the real space $\\R$; and when we later mention **vector space** or **vector subspace** $V$, we actually mean the **vector space/subspace over the field $\\R$**."
   ]
  },
  {
   "cell_type": "markdown",
   "id": "5eb239f0-7375-49f8-bbd8-50f90032dc9f",
   "metadata": {},
   "source": [
    "### Dimensions\n",
    "\n",
    "Normally, dimensions are formally defined after the introduction of basis. We will give an informal treatment of dimension here to better understand the idea when mentioning this word."
   ]
  },
  {
   "cell_type": "markdown",
   "id": "ec77f691-046a-448e-b931-13884827e816",
   "metadata": {},
   "source": [
    "#### Algebraic Definition (Dimension)\n",
    "\n",
    "Consider a vector $\\v \\in \\R^n$, then we can represent \n",
    "\n",
    "$$\n",
    "\\v= \\begin{bmatrix}\n",
    "v_1 \\\\ v_2 \\\\ \\vdots \\\\ v_n\n",
    "\\end{bmatrix} \\in \\R^n\n",
    "$$\n",
    "\n",
    "and we can naively define the **dimension** of the vector to be the number of elements:\n",
    "\n",
    "$$\\text{dim}(\\v) = |\\v| = n$$"
   ]
  },
  {
   "cell_type": "markdown",
   "id": "8b229d5b-6c9e-4fe9-9a1c-fa5b9f18f8e6",
   "metadata": {},
   "source": [
    "#### Geometric Definition (Dimension)\n",
    "\n",
    "The dimensionality of a vector is the number of\n",
    "coordinate axes in which that vector exists. A 2D vector is a line\n",
    "in a 2D space (think of the typical Cartesian XY plane); a 3D\n",
    "vector is a line in a 3D space. Note that both a 2D vector and a\n",
    "3D vector are both lines, but they exist in a different number of\n",
    "dimensions. **Mike X Cohen: Linear Algebra: Theory, Intuition, Code, 2021. (pp. 76)**"
   ]
  },
  {
   "cell_type": "markdown",
   "id": "261854db-7117-47ac-90b3-867fa4c1c6b0",
   "metadata": {},
   "source": [
    "### Vector Space"
   ]
  },
  {
   "cell_type": "markdown",
   "id": "142fa05a-6e1d-44b2-81f4-d22189eeec77",
   "metadata": {},
   "source": [
    "#### Definition (Vector Space)\n",
    "\n",
    "A vector space is a set $V$ consisting of the following:\n",
    "\n",
    "a) a field $\\F$, where the elements in $\\F$ are called scalars.\n",
    "\n",
    "b) a non empty set $V$, where the elements in $V$ are called vectors (be less pedantic about the word vectors as we can treat say polynomial ring as a vector space and we can also treat a field $\\F$ over itself as a vector space as well. So the word vectors here are not only the usual ones we see in \"vectors\")\n",
    "\n",
    "c) an operation of vector addition $\\u + \\v$ between every pair of vectors $\\u, \\v \\in V$ and\n",
    "\n",
    "d) an operation of scalar multiplication $\\lambda\\u$ between every $\\lambda \\in \\F$ and every vector $\\u \\in V$.\n",
    "\n",
    "---\n",
    "\n",
    "**Furthermore, all elements in $V$ must satisfy the closure properties and the following axioms:**\n",
    "\n",
    "- $\\textbf{V(0)}: \\textbf{Closure (Well Defined)}$: For all $\\mathbf{u,v} \\in V, \\mathbf{u+v} \\in V$; For all $\\lambda \\in \\F$ and $\\v \\in V$, then $\\lambda \\v \\in V$; Consequently, all linear combinations of vectors in $\\V$ is in $\\V$.\n",
    "\n",
    "- $\\textbf{V(1)}: \\textbf{Existence of the Zero Vector (Additive Identity)}$: There exists a vector $\\mathbf{0} \\in V$, called the zero vector, such that $\\mathbf{v + 0 = u = 0+v}$ for all $\\v \\in V$.  We should know it is unique. \n",
    "\n",
    "- $\\textbf{V(2)}: \\textbf{Commutative Law for Vector Addition}$: For all $\\mathbf{u,v} \\in V$, $\\mathbf{u+v = v+u}$.\n",
    "\n",
    "- $\\textbf{V(3)}: \\textbf{Associative Law for Vector Addition}$: For all $\\mathbf{u,v,w} \\in V$, we have $\\mathbf{u + (v+w)} = \\mathbf{(u+v)+w}$.\n",
    "\n",
    "- $\\textbf{V(4)}: \\textbf{Existence of Additive Inverse}$: For every vector $\\v \\in V$, there exists a vector $-\\v \\in V$ such that $\\mathbf{v+(-v) = 0 = (-v)+v}$. \n",
    "\n",
    "- $\\textbf{V(5)}: \\textbf{Existence of the Multiplicative Identity}$: There exists $\\mathbf{1}\\in V$ such that $\\mathbf{1} \\times \\v = \\v \\times \\mathbf{1} = \\v$ for all $\\v \\in \\F$.\n",
    "\n",
    "- $\\textbf{V(6)}: \\textbf{Associative Law for Vector-Scalar Multiplication}$: For all $a,b \\in \\F$ and $\\v \\in V$, we have $a(b\\v) = (ab)\\v$\n",
    "\n",
    "- $\\textbf{V(7)}: \\textbf{Distributive Law}$:\n",
    "    - $a(\\mathbf{u+v}) = a\\u + a\\v ,~~~\\forall a \\in \\F, \\mathbf{u,v} \\in V$\n",
    "    - $(a+b)\\v = a\\v + b\\v,~~~\\forall a,b \\in \\F, \\v \\in V$."
   ]
  },
  {
   "cell_type": "markdown",
   "id": "e1376388-4650-4396-8cc2-5bb4cd003b9e",
   "metadata": {},
   "source": [
    "#### Vector Space over a Field\n",
    "\n",
    "Note carefully that a vector space $V$ is dependent on the field $\\F$ since **scalar multiplication** draws $\\lambda$ from $\\F$. Thus, we don't usually talk only about vector space $V$ alone, instead we use the notion of **Vector Space over a Field** $\\F$."
   ]
  },
  {
   "cell_type": "markdown",
   "id": "0d98c464-5e12-43f4-a7da-77c6b26215c8",
   "metadata": {},
   "source": [
    "#### Example of Vector Spaces over a Field\n",
    "\n",
    "- We can imagine elements $\\v \\in V$ as vectors/lines/points.\n",
    "- We can take the field $\\F$ to be $\\R$.\n",
    "- Then a vector space $V$ over $\\R$ is called the **real vector space**."
   ]
  },
  {
   "cell_type": "markdown",
   "id": "bd208582-b0ce-4b28-b794-657cbf649944",
   "metadata": {},
   "source": [
    "### Subspaces"
   ]
  },
  {
   "cell_type": "markdown",
   "id": "d115a48d-64b3-4af2-b66a-1c10eda8e184",
   "metadata": {},
   "source": [
    "#### Definition (Subspaces Geometrically)\n",
    "\n",
    "For a better treatment of understanding **subspaces** geometrically, do read page 79-80 of the book **Linear Algebra: Theory, Intuition, Code**."
   ]
  },
  {
   "cell_type": "markdown",
   "id": "b0a6968c-4205-405d-b506-13cb9f189432",
   "metadata": {},
   "source": [
    "#### Definition (Subspaces Algebraically)\n",
    "\n",
    "Let $V$ be a vector space over a field $\\F$. A non empty subset $W \\subseteq V$ of a vector space $V$ is called a **subspace** of $V$ if $W$ is itself a **vector space** using the same vector addition and scalar multiplication as in $V$.\n",
    "\n",
    "**Let $W \\subset V$ and $\\w \\in W$, we must show that $W$ obeys all conditions from the definition of a **vector space**. For any $\\w \\in W$, we must have $w \\in V$ by definition of a subset; this means that $V2,V3,V5,V6,V7$ are automatically true since $\\w \\in W \\subset V$. We just need to check if it satisfies $V0,V1,V4$, namely, the two closure properties, the existence of zero vector, and the existence of the additive inverse for vector addition.**\n",
    "\n",
    "!!! note\n",
    "    We take V2 as an example, take any two elements $\\w_1, \\w_2 \\in W$, then $\\w_1, \\w_2 \\in V$, and hence obeys V2. But we cannot say for sure about V1, as there is no guarantee the subset $W$ will contain the zero vector!"
   ]
  },
  {
   "cell_type": "markdown",
   "id": "47ff7966-d791-4fcd-81af-9b2725307812",
   "metadata": {},
   "source": [
    "#### Example and Intuition of Subspaces\n",
    "\n",
    "\n",
    "Let us start with an informal treatment of a **subspace**. First, we say that a **subspace** $W$ of $V$ must fulfill two conditions:\n",
    "- $W$ is a **subset** of $V$ and;\n",
    "- $W$ is a **vector space** itself over the field $\\F$.\n",
    "\n",
    "The classic example of a $3$-dimensional real vector space is the Euclidean space $\\mathbb R^3$. That is,  $\\R^3 = \\{(x,y,z)~|~x,y,z \\in \\R\\}$, which is the 3-dimensional space, or to be more formal, it is the vector space $V$ over $\\R$, a **collection** of all 3-tuple vectors. \n",
    "\n",
    "Now, consider the **set** $L = \\{\\lambda(1,2,3) ~|~ \\lambda \\in \\R\\}$, we check that the set $L$ informally satisfies our conditions to be a subspace of $\\R^3$.\n",
    "\n",
    "- I emphasized the word **set** because of the idea of **subset**, that is, a **vector subspace** first must be a **subset** of the **vector space**. Our $L$ is a subset of $\\R^3$ by definition, in fact, it is the **set** of all lines of the form $\\lambda(1,2,3)$. \n",
    "\n",
    "- Only being a subset is not sufficient to be called a **subspace**, we have fulfilled the idea of a **sub**set, but not the **space** part. It suffices to check if our $L$ is a **valid vector space over** $\\R$. And to check that we can use back the definition of **vector space** to do so.\n",
    "\n",
    "The main point is that a single vector, $(1,2,3)$ scaled by any $\\lambda \\in \\R$ makes up a **subspace**. It also happens to be the 1D-subspace which is just a line. **It is also important to mention that the line must pass through the origin to be considered a subspace**.\n",
    "\n",
    "---\n",
    "\n",
    "Next, consider the **set** $P = \\{\\lambda_1(1,0,0) + \\lambda_2(0,0,1) ~|~ \\lambda_i \\in \\R\\}$. Geometrically, we have known from earlier that these two vectors form a 2D-plane and we will show later that is is the 2D-subspace, a plane."
   ]
  },
  {
   "cell_type": "markdown",
   "id": "448bde79-8a26-4fdb-a825-2fa7f219d9d9",
   "metadata": {},
   "source": [
    "#### Theorem (Conditions to be a Subspace Theorem (Equivalent Subspace Definition))\n",
    "\n",
    "From the previous section, we know that we just need to check V0, V1 and V4 to be true. This reduces our conditions for $W \\subset V$ to be a subspace to be as follows:\n",
    "\n",
    "---\n",
    "\n",
    "Let $V$ be a vector space over a field $\\F$. A subset $W$ of $V$ is a subspace of $V$ if and only if \n",
    "\n",
    "S1) $\\textbf{(Containing the Zero Vector)}$: $\\0 \\in W$ ;\n",
    "\n",
    "S2) $\\textbf{(Closure under Vector Addition)}$: $\\forall \\mathbf{u,w} \\in W, \\u+\\w \\in W$\n",
    "\n",
    "S3) $\\textbf{(Closure under Scalar Multiplication)}$: $\\forall \\lambda \\in \\F$ and $\\w \\in W$, we have $\\lambda\\w \\in W$.\n",
    "\n",
    "---\n",
    "\n",
    "${\\color{red}{PROOF:}}$\n",
    "\n",
    "$\\Rightarrow$ If $W$ is also a **subspace**, then by the definition of subspace, $W$ is also a vector space, and hence $S1,S2,S3$ are satisfied.\n",
    "\n",
    "\n",
    "$\\Leftarrow$ We should be clear that for other conditions V2, V3, V5, V6 and V7 do not warrant checking since these axioms are automatically satisfied for $W$ since it holds for the larger subset $V$. We need only check the following:\n",
    "\n",
    "**Zero Vector:** If S1 is satisfied, then the corresponding V1 is satisfied.\n",
    "\n",
    "**Closure Properties:** S2 and S3 both implies V0.\n",
    "\n",
    "**Additive Inverse for Vector Addition**: Let $\\w \\in W$, take $-1 \\in \\F$, by S3 (closure of scalar multiplication), we must have $-1(\\w) \\in W$.$\n",
    "\n",
    "One thing that you notice is that by the closure of addition $\\mathbf{w+(-w)}  = \\mathbf{0} \\in W$ or by the closure of scalar multiplication $0 \\cdot \\w = \\0  \\in W$ (note $0 \\in \\F$). What this implies is that **S2 and S3** are sufficient to imply **S1**. You can trace the proof by ignoring the S1."
   ]
  },
  {
   "cell_type": "markdown",
   "id": "58dafcbf-2a2f-4b50-8843-ebe608df16b4",
   "metadata": {},
   "source": [
    "#### Linear Combination (Definition revisited)\n",
    "\n",
    "Let $V$ be a vector space over a field $\\F$. A vector $\\v$ is a linear combination of vectors $\\mathbf{v_1,v_2,...,v_m} \\in V$ if $$\\v = \\lambda_1\\v_1+...+\\lambda_m\\mathbf{v_m}$$ for some scalars $\\lambda_i \\in \\F$.\n"
   ]
  },
  {
   "cell_type": "markdown",
   "id": "4aee4eb0-6217-417a-8eb6-2dddc0473567",
   "metadata": {},
   "source": [
    "#### Theorem (Closure Linear Combination implies Subspace)\n",
    "\n",
    "Let $V$ be a vector space over a field $\\F$ and $W\\subseteq V$ a non empty subset. Then $W$ is a subspace of $V$ if and only if $W$ is closed under linear combination, (i.e $\\forall \\lambda_i \\in \\F, \\forall \\mathbf{w_i} \\in W \\Rightarrow \\lambda_1\\w_1+ \\lambda_2\\w_2 \\in W$).\n",
    "\n",
    "This should not come as a surprise as this is just a rebranding of **Conditions to be a Subspace Theorem (Equivalent Subspace Definition)**. "
   ]
  },
  {
   "cell_type": "markdown",
   "id": "e5120b81-468b-466a-b0f2-2d795d6a0371",
   "metadata": {},
   "source": [
    "#### Vector subspaces of $\\mathbb{R}^2$\n",
    "\n",
    "There are three types of vector subspaces of the vector space $\\mathbb{R}^2$.\n",
    "\n",
    "i) The origin $\\mathbf{0} = \\{0,0\\}$\n",
    "\n",
    "\n",
    "ii) The line through the origin : $$L = \\{t\\v~|~t \\in \\mathbb{R}\\}$$\n",
    "\n",
    "iii) $\\mathbb{R}^2$"
   ]
  },
  {
   "cell_type": "markdown",
   "id": "68fe1162-446a-48f8-9e9b-61694c676d28",
   "metadata": {},
   "source": [
    "##### Visualization of Subspaces in $\\R^2$\n",
    "\n",
    "Courtesy of [MacroAnalyst's Linear Algebra with Python](https://github.com/MacroAnalyst/Linear_Algebra_With_Python/blob/master/Chapter%208%20-%20Vector%20Space%20and%20Subspace.ipynb). Notice that the line $y = -3 + \\frac{2}{3}x$ does not pass through the origin $(0, 0)$, and hence not a subspace."
   ]
  },
  {
   "cell_type": "code",
   "execution_count": 4,
   "id": "0561c0ea-d83b-455d-a97e-116a6e549981",
   "metadata": {},
   "outputs": [
    {
     "data": {
      "image/png": "[encoded data removed]",
      "text/plain": [
       "<Figure size 720x720 with 1 Axes>"
      ]
     },
     "metadata": {
      "needs_background": "light"
     },
     "output_type": "display_data"
    }
   ],
   "source": [
    "import matplotlib.pyplot as plt\n",
    "import numpy as np\n",
    "\n",
    "fig, ax = plt.subplots(figsize=(10, 10))\n",
    "####################### Arrows #######################\n",
    "x = np.arange(-10, 11, 1)\n",
    "y = 4 / 6 * x\n",
    "ax.plot(\n",
    "    x,\n",
    "    y,\n",
    "    lw=4,\n",
    "    color=\"blue\",\n",
    "    label=r\"$y = \\frac{2}{3}x$, subspace of $\\mathbf{R}^2$\",\n",
    ")\n",
    "\n",
    "y = -3 + 4 / 6 * x\n",
    "ax.plot(\n",
    "    x,\n",
    "    y,\n",
    "    lw=4,\n",
    "    color=\"red\",\n",
    "    label=r\"$y = -3+\\frac{2}{3}x$, not a subspace of $\\mathbf{R}^2$\",\n",
    ")\n",
    "\n",
    "ax.grid(True)\n",
    "ax.set_title(\"Visualization of Subspace in $R^2$ \", size=18)\n",
    "ax.scatter(0, 0, s=100, fc=\"black\", ec=\"red\")\n",
    "ax.text(-2, 0, \"$(0,0)$\", size=18)\n",
    "ax.legend(fontsize=16)\n",
    "\n",
    "ax.axis([-10, 10, -10, 10])\n",
    "\n",
    "ax.set_xlabel(\"x-axis\", size=18)\n",
    "ax.set_ylabel(\"y-axis\", size=18)\n",
    "plt.show()"
   ]
  },
  {
   "cell_type": "markdown",
   "id": "5ea7f318-65a4-431f-846d-09bc5d74dbd3",
   "metadata": {},
   "source": [
    "\n",
    "\n",
    "#### Vector subspaces of $\\mathbb{R}^3$\n",
    "\n",
    "There are four types of vector subspaces of the vector space $\\mathbb{R}^3$.\n",
    "\n",
    "i) The origin $\\mathbf{0} = \\{0,0,0\\}$\n",
    "\n",
    "ii) The line $L$ passing through the origin. $$L = \\{t\\v~|~t \\in \\mathbb{R}\\}$$\n",
    "\n",
    "iii) A plane $P$ passing through the origin. $$P = \\{(x,y,z) \\in \\mathbb{R}^3~|~ ax + by + cz = 0\\}$$\n",
    "\n",
    "iv) $\\mathbb{R}^3$"
   ]
  },
  {
   "cell_type": "markdown",
   "id": "a88472c6-84fc-4b29-bc3e-a104da7beefe",
   "metadata": {},
   "source": [
    "#### Theorem (Intersection of Subspaces is a Subspace)\n",
    "\n",
    "Let $V$ be a vector space over a field $\\F$ and let $W_\\alpha \\subseteq V$ ($\\alpha \\in I$) be vector subspaces of $V$, then the intersection $$\\cap_{\\alpha \\in I}W_\\alpha$$ is again a vector subspace of $V$.\n",
    "\n",
    "---\n",
    "\n",
    "Before we start, the intuition is simple, call $C = A \\cap B$, and to think intuitively that $C$ is itself a subspace, we just take an element $\\mathbf{c_1}, \\mathbf{c_2} \\in C$ and $\\lambda \\in \\F$, and ask whether these vectors obey the closure property. For a start, for any two vectors in $C$, they are closed under addition because both vectors are elements of $A$ and (or) $B$.\n",
    "\n",
    "It suffices for us to prove the base case and we can use induction to prove for more intersections. \\bigskip\n",
    "\n",
    "{\\color{red}\n",
    "Let $W_1$ and $W_2$ be subspaces of a vector space $V$, then it suffices for us to just prove $W_1 \\cap W_2$ is a subspace of $V$ too and then we can proceed with induction. \\bigskip\n",
    "\n",
    "\n",
    "Let any $\\mathbf{a,b} \\in W_1 \\cap W_2$, then $\\mathbf{a} \\in W_1$ and $\\mathbf{a} \\in W_2$, $\\mathbf{b} \\in W_1$ and $\\mathbf{b} \\in W_2$. \n",
    "\n",
    "By the closure properties of $W_1$ and $W_2$ respectively, we have that $\\mathbf{a+b} \\in W_1$ and $\\mathbf{a+b} \\in W_2$. Hence this implies that $\\mathbf{a+b} \\in W_1 \\cap W_2$. This shows $W_1 \\cap W_2$ is closed under addition. \\bigskip\n",
    "\n",
    "\n",
    "Similarly, for any $\\mathbf{a} \\in W_1 \\cap W_2$, we have $\\mathbf{a} \\in W_1$ and $\\mathbf{a} \\in W_2$. Thus for any scalar $k$, we have $k\\mathbf{a} \\in W_1$ and $k\\mathbf{a} \\in W_2$. This implies that $k\\mathbf{a} \\in W_1 \\cap W_2$. This shows that $W_1 \\cap W_2$ is closed under scalar multiplication.\n",
    "\n",
    "\\bigskip\n",
    "\n",
    "We have shown that $W_1 \\cap W_2$ is a subspace.\n",
    "\n"
   ]
  },
  {
   "cell_type": "markdown",
   "id": "bbe38678-9600-4905-9255-abeca41ad3bf",
   "metadata": {},
   "source": [
    "#### Union of Two Subspaces may not be a Subspace\n"
   ]
  }
 ],
 "metadata": {
  "kernelspec": {
   "display_name": "Python 3 (ipykernel)",
   "language": "python",
   "name": "python3"
  },
  "language_info": {
   "codemirror_mode": {
    "name": "ipython",
    "version": 3
   },
   "file_extension": ".py",
   "mimetype": "text/x-python",
   "name": "python",
   "nbconvert_exporter": "python",
   "pygments_lexer": "ipython3",
   "version": "3.9.9"
  }
 },
 "nbformat": 4,
 "nbformat_minor": 5
}

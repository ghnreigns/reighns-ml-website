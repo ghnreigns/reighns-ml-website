{
  "cells": [
    {
      "cell_type": "markdown",
      "metadata": {
        "id": "MdMIc32_RsMv"
      },
      "source": [
        "## Precision and Recall"
      ]
    },
    {
      "cell_type": "code",
      "execution_count": 1,
      "metadata": {
        "id": "qVkn30yCDLLB"
      },
      "outputs": [],
      "source": [
        "# !pip install -q scikit-learn==1.0.1\n",
        "from typing import List\n",
        "\n",
        "import matplotlib.pyplot as plt\n",
        "import numpy as np\n",
        "import pandas as pd\n",
        "import seaborn as sns\n",
        "from sklearn import metrics, preprocessing\n",
        "import itertools\n",
        "from typing import List, Dict, Optional, Union"
      ]
    },
    {
      "cell_type": "code",
      "execution_count": 2,
      "metadata": {
        "id": "1AotyB4lRrwK"
      },
      "outputs": [],
      "source": [
        "def confusion_matrix_(y_true: np.ndarray, y_pred: np.ndarray) -> np.ndarray:\n",
        "    \"\"\"Calculates the confusion matrix.\n",
        "    We assume that the inputs are binarized already.\n",
        "    This can be used in both binary and multiclass classification\n",
        "    provided that we label binarized the multiclass labels.\n",
        "\n",
        "    Args:\n",
        "        y_true (np.ndarray): the correct labels, shape (n_samples, )\n",
        "        y_pred (np.ndarray): the predicted labels, shape (n_samples, )\n",
        "\n",
        "    Returns:\n",
        "        cm (np.ndarray): the confusion matrix, shape (n_classes, n_classes)\n",
        "                         with [[tp, fp], [fn, tn]]\n",
        "    \"\"\"\n",
        "    tp, fp, fn, tn = 0, 0, 0, 0\n",
        "\n",
        "    for y_t, y_p in zip(y_true, y_pred):\n",
        "        # if actual and predicted both are positive class\n",
        "        if y_t == y_p == 1:\n",
        "            tp += 1\n",
        "        # if actual and predicted both are negative class\n",
        "        elif y_t == y_p == 0:\n",
        "            tn += 1\n",
        "        # if actual is negative and predicted is positive\n",
        "        elif y_t == 0 and y_p == 1:\n",
        "            fp += 1\n",
        "        # if actual is positive and predicted is negative\n",
        "        elif y_t == 1 and y_p == 0:\n",
        "            fn += 1\n",
        "\n",
        "    cm = np.asarray([[tp, fp], [fn, tn]])\n",
        "    return cm\n",
        "\n",
        "def plot_confusion_matrix(\n",
        "    y_true: np.ndarray,\n",
        "    y_pred: np.ndarray,\n",
        "    title: str,\n",
        "    labels: List[str],\n",
        "    tick_labels: List[str],\n",
        ") -> None:\n",
        "    \"\"\"Plots a Binary Confusion Matrix.\n",
        "\n",
        "    Args:\n",
        "        y_true (np.ndarray): the actual labels.\n",
        "        y_pred (np.ndarray): the predicted labels.\n",
        "        title (str): the title of the plot.\n",
        "        tick_labels (List[str]): The labels for the ticks.\n",
        "    \"\"\"\n",
        "\n",
        "    # Unravel into tn, fp, fn and tp\n",
        "    tn, fp, fn, tp = metrics.confusion_matrix(\n",
        "        y_true, y_pred, labels=labels\n",
        "    ).ravel()\n",
        "\n",
        "    # reshape into tp, fp, fn, tn - this is personal preference\n",
        "    reshaped_cm = np.asarray([[tp, fp], [fn, tn]])\n",
        "\n",
        "    # flatten this 2d array\n",
        "    cm_flattened = reshaped_cm.flatten()\n",
        "\n",
        "    labels = [\n",
        "        \"True Positive\",\n",
        "        \"False Positive\",\n",
        "        \"False Negative\",\n",
        "        \"True Negative\",\n",
        "    ]\n",
        "    annot = (\n",
        "        np.asarray(\n",
        "            [\n",
        "                f\"{label}\\n{cm_count}\"\n",
        "                for label, cm_count in zip(labels, cm_flattened)\n",
        "            ]\n",
        "        )\n",
        "    ).reshape(2, 2)\n",
        "\n",
        "    ax = plt.subplot()\n",
        "    heatmap = sns.heatmap(\n",
        "        reshaped_cm,\n",
        "        annot=annot,\n",
        "        fmt=\"\",\n",
        "        cmap=\"Greens\",\n",
        "        ax=ax,\n",
        "        xticklabels=tick_labels,\n",
        "        yticklabels=tick_labels,\n",
        "    )\n",
        "    ax.set_title(title)\n",
        "    ax.set_xlabel(\"Predicted labels\")\n",
        "    ax.set_ylabel(\"True labels\")\n",
        "    plt.show()"
      ]
    },
    {
      "cell_type": "markdown",
      "metadata": {
        "id": "t_7SfOSX790F"
      },
      "source": [
        "## **Precision**"
      ]
    },
    {
      "cell_type": "markdown",
      "metadata": {
        "id": "Kp_Etvvn790F"
      },
      "source": [
        "### Definition\n",
        "\n",
        "!!! success \"Definition\"\n",
        "    Precision measures how many of the samples predicted as positive are actually positive. Mathematically, it is expressed as:\n",
        "\n",
        "    $$\\text{Precision} = \\dfrac{\\text{TP}}{\\text{TP} + \\text{FP}}=P(Y=1 | \\hat{Y} = 1)$$\n",
        "\n",
        "---\n",
        "\n",
        "!!! info \"Probablistic Interpretation\"\n",
        "    Notice that the above definition has a probabilitic interpretation $P(Y = 1 | \\hat{Y} = 1)$, where $Y$ and $\\hat{Y}$ refers to the actual label and predicted labels respectively. We interpreted precision and recall not as ratios but as [estimations of probabilities](https://en.wikipedia.org/wiki/Precision_and_recall).\n",
        "    Precision is then the estimated probability that a random point selected from the samples are positive. This might be a tough pill to swallow as someone who was never good in statistics but it is just conditional probability. If you try to think a bit further, you can form an intuition as follows:\n",
        "    > If your classifier $h$ is trained and the last layer is say, sigmoid, which in binary classification, calibrates the logits and turn them into probabilities. Then it can be interpretated that given a randomly chosen point $x \\in X_{train}$, what is the probability of this point $x$ to be positive given that it is predicted as positive by the classifer?\n",
        "\n",
        "---\n",
        "\n",
        "Informally, precision answers the question **what proportion of positive predictions was actually correct**? In other words, out of all the positive predictions made by the model, how many of those positive predictions were actually positive when compared to the ground truth?\n",
        "\n",
        "---\n",
        "\n",
        "When I learned this back then, it is not immediately obvious what the denominator is doing. Dissecting the formula helps. The loose dynamics is that TP and FP are inversely related, and assuming a fixed threshold, the denominator is fixed as follows:\n",
        "\n",
        "$$\\text{Predicted Number of Positives} = \\text{TP} + \\text{FP}$$    \n",
        "\n",
        "Thus, minimizing FP is equivalent to maximizing TP, doing so will lead to an increase in precision.\n",
        "\n",
        "---\n",
        "\n",
        "!!! note\n",
        "    Just like the confusion matrix, we yield different precision score should we treat benign as the positive class.\n",
        "\n",
        "---\n",
        "\n",
        "!!! example\n",
        "    Consider a email company that developed a email spam detector for their uses. There are two outcomes/classes:\n",
        "    ```python\n",
        "    positive class = spam\n",
        "    negative class = not spam\n",
        "    ```\n",
        "    From the company's perspective, they will be optimizing precision over recall because they want the spam detector to have minimal False Positives because predicting an not spam (which could be an important email) email as spam is much more costly than predicting a spam email as not spam. Imagine your important emails being put into spam folder by the spam detector?!"
      ]
    },
    {
      "cell_type": "markdown",
      "metadata": {
        "id": "Ai0pWNkJ790F"
      },
      "source": [
        "### When to use Precision?\n",
        "\n",
        "- When your company needs you to ***restrict the number of False Positives***. Prime examples are email spam prediction.\n",
        "\n",
        "- There is a trade-off between precision and recall, and restricting the number of FP ***may*** give rise to the increase in FN. So ultimately, bear in mind that it is not simply a matter of ***restricting the number of False Positives*** but a matter of ***use cases in your business setting, on whether achieving lesser FP is more important than achieving a lesser FN***.\n",
        "\n",
        "### When NOT to use Precision?\n",
        "\n",
        "!!! danger\n",
        "    - If you have a precision score of 1, then this means that $TP = TP + FP = 1 \\implies FP = 0$. This means it can be achieved if your predictions have 0 False Positives, but this does not tell us **anything** about the False Negatives.\n",
        "    - When you prioritize recall/sensitivity more than precision for your business needs.\n",
        "    - You should never ever use `precision` as a single metric."
      ]
    },
    {
      "cell_type": "markdown",
      "metadata": {
        "id": "TfZ2Cjvg790G"
      },
      "source": [
        "### Implementation of Precision"
      ]
    },
    {
      "cell_type": "code",
      "execution_count": 3,
      "metadata": {
        "colab": {
          "base_uri": "https://localhost:8080/"
        },
        "id": "RacLwhPA790G",
        "outputId": "7e0d875b-2fb4-4e63-dd45-d600cb6f218e"
      },
      "outputs": [
        {
          "name": "stdout",
          "output_type": "stream",
          "text": [
            "our precision: 0.75\n",
            "sklearn precision: 0.75\n"
          ]
        }
      ],
      "source": [
        "y_true = np.array([1, 1, 0, 1, 0, 0, 1, 0, 0, 1])\n",
        "y_pred = np.array([1, 1, 1, 0, 0, 0, 1, 0, 0, 0])\n",
        "\n",
        "\n",
        "tp, fp, fn, tn = confusion_matrix_(y_true, y_pred).ravel()\n",
        "reighns_precision = tp / (tp + fp)\n",
        "\n",
        "print(f\"our precision: {reighns_precision}\")\n",
        "\n",
        "sklearn_precision = metrics.precision_score(y_true, y_pred, average=\"binary\")\n",
        "\n",
        "print(f\"sklearn precision: {sklearn_precision}\")"
      ]
    },
    {
      "cell_type": "markdown",
      "metadata": {
        "id": "I8SXvyid790G"
      },
      "source": [
        "## Recall/Sensitivity/True Positive Rate"
      ]
    },
    {
      "cell_type": "markdown",
      "metadata": {
        "id": "AVobSDW2790G"
      },
      "source": [
        "### Definition\n",
        "\n",
        "!!! success \"Definition\"\n",
        "    Recall measures the following: out of all the actual positives (say, the real cancer patients), how many of them were identified correctly by the classifier? Mathematically, it is expressed as:\n",
        "    \n",
        "    $$\\text{Recall}= \\dfrac{\\text{TP}}{\\text{TP} + \\text{FN}}= P(\\hat{Y}=1 | Y = 1)=1-FNR$$\n",
        "\n",
        "---\n",
        "\n",
        "!!! info \"Probabilistic Interpretation\"\n",
        "    Similarly, we can interpret recall probabilistically like how we did to precision. Recall is the conditional probability of the sample being predicted as positive given that the sample is positive.\n",
        "\n",
        "---\n",
        "\n",
        "!!! note\n",
        "    From the formula, we see the denominator to be defined as TP + FN, which is unsurprising as this gives you the actual number of positives. The dynamics is also similar to the one in precision."
      ]
    },
    {
      "cell_type": "markdown",
      "metadata": {
        "id": "U01aZ8XTSoYG"
      },
      "source": [
        "!!! example\n",
        "    For cancer data modeling, anything that doesn't account for false-negatives is like committing a crime indirectly (a strong statement, but lives are at stake here!). Recall is a better measure than precision in this aspect assuming that the positive class is malignant.\n",
        "    ```python\n",
        "    positive class = malignant\n",
        "    negative class = benign\n",
        "    ```\n",
        "    A healthcare company came up with a cancer test kit. Instead of reporting its accuracy, we should examine the recall first as the test kit should have minimum False Negatives because predicting a patient with cancer as benign yields a much higher cost than predicting a healthy patient to have cancer. You really do not want to miss any sick patients, you will see later on how we can tune the decision threshold of a classifier to achieve a higher recall at the expense of lowering precision.  "
      ]
    },
    {
      "cell_type": "markdown",
      "metadata": {
        "id": "BbJ5yXPs790G"
      },
      "source": [
        "### When to use Recall?\n",
        "\n",
        "- When your company needs you to ***restrict the number of False Negatives***.\n",
        "\n",
        "### When to NOT use Recall?\n",
        "\n",
        "!!! danger\n",
        "    - If you have a recall score of 1, then this means that $TP = TP + FN = 1 \\implies FN = 0$; there are 0 False Negatives, but this does not tell us **anything** about the False Positives.\n",
        "    - When you prioritize precision more than recall for your business needs.\n",
        "    - You almost never ever use `recall` as a single metric."
      ]
    },
    {
      "cell_type": "markdown",
      "metadata": {
        "id": "0Lvsxbo3790G"
      },
      "source": [
        "### Implementation of Recall"
      ]
    },
    {
      "cell_type": "code",
      "execution_count": 4,
      "metadata": {
        "colab": {
          "base_uri": "https://localhost:8080/"
        },
        "id": "ZcAQtLo2790G",
        "outputId": "cb6865ca-59e9-4d52-aa23-27c5379c1649"
      },
      "outputs": [
        {
          "name": "stdout",
          "output_type": "stream",
          "text": [
            "our recall: 0.6\n",
            "sklearn recall: 0.6\n"
          ]
        }
      ],
      "source": [
        "y_true = np.array([1, 1, 0, 1, 0, 0, 1, 0, 0, 1])\n",
        "y_pred = np.array([1, 1, 1, 0, 0, 0, 1, 0, 0, 0])\n",
        "\n",
        "\n",
        "tp, fp, fn, tn = confusion_matrix_(y_true, y_pred).ravel()\n",
        "reighns_recall = tp / (tp + fn)\n",
        "\n",
        "print(f\"our recall: {reighns_recall}\")\n",
        "\n",
        "sklearn_recall = metrics.recall_score(y_true, y_pred, average=\"binary\")\n",
        "\n",
        "print(f\"sklearn recall: {sklearn_recall}\")"
      ]
    },
    {
      "cell_type": "markdown",
      "metadata": {
        "id": "PLyejjGl790H"
      },
      "source": [
        "## The Precision-Recall Tradeoff\n",
        "\n",
        "Does this term reminisce with the Bias-Variance Tradeoff? More specifically, when we talk about precision and recall in the sections above, we are fixated at one **decision threshold** of our classifier. One should note that both metrics are parametrized by $t$, the decision threshold. We can tune our threshold to achieve a better precision or recall, but usually not both, hence the tradeoff. \n",
        "\n",
        "---\n",
        "\n",
        "We can read more from [Google's Machine Learning Crash Course on Precison and Recall](https://developers.google.com/machine-learning/crash-course/classification/precision-and-recall)."
      ]
    },
    {
      "cell_type": "markdown",
      "metadata": {
        "id": "2bpsQ83e790H"
      },
      "source": [
        "## Specificity/True Negative Rate\n",
        "\n",
        "!!! success \"Definition\"\n",
        "    $$TNR = \\dfrac{TN}{TN + FP} = P(\\hat{Y} = 0| Y=0) = 1 - FPR$$"
      ]
    },
    {
      "cell_type": "markdown",
      "metadata": {
        "id": "hWQBsUaR790H"
      },
      "source": [
        "## False Positive Rate\n",
        "\n",
        "!!! success \"Definition\"\n",
        "    Out of all the real negative classes (negative ground truth), how many were predicted wrongly (predicted as positive from the model).\n",
        "   \n",
        "    $$FPR = \\dfrac{FP}{FP + TN}=1-TNR$$"
      ]
    },
    {
      "cell_type": "markdown",
      "metadata": {
        "id": "cCFgJlJd790H"
      },
      "source": [
        "## False Negative Rate\n",
        "\n",
        "!!! success \"Definition\"\n",
        "    $$TNR = \\dfrac{FN}{FN + TP} = 1 - TPR$$"
      ]
    },
    {
      "cell_type": "markdown",
      "metadata": {
        "id": "ZMIKeCYk790H"
      },
      "source": [
        "## F1-Score"
      ]
    },
    {
      "cell_type": "markdown",
      "metadata": {
        "id": "gliCTFqL790H"
      },
      "source": [
        "### Intuition\n",
        "\n",
        "Motivated by the examples above, where using single precision or recall do not tell us much about the whole story. We thus turn to a combination of the above metrics. Penalizes extreme values of precision and recall more than arithmetic mean[^1].\n",
        "\n",
        "[^1]: https://stackoverflow.com/questions/26355942/why-is-the-f-measure-a-harmonic-mean-and-not-an-arithmetic-mean-of-the-precision/26360501#26360501"
      ]
    },
    {
      "cell_type": "markdown",
      "metadata": {
        "id": "wzCAvVCs790H"
      },
      "source": [
        "### Definition\n",
        "\n",
        "!!! success \"Definition\"\n",
        "    The F1 score is the <b>harmonic mean</b> between Precision and Recall, bounded between 0 and 1. \n",
        "\n",
        "    $$F1 = \\dfrac{2(\\text{Precision} \\times \\text{Recall})}{\\text{Precision} + \\text{Recall}}$$\n",
        "\n",
        "!!! example\n",
        "    TO CITE: For example, imagine that the blood protein levels in diseased people and healthy people are normally distributed with means of 2 g/dL and 1 g/dL respectively. A medical test might measure the level of a certain protein in a blood sample and classify any number above a certain threshold as indicating disease. The experimenter can adjust the threshold (black vertical line in the figure), which will in turn change the false positive rate. Increasing the threshold would result in fewer false positives (and more false negatives), corresponding to a leftward movement on the curve. The actual shape of the curve is determined by how much overlap the two distributions have."
      ]
    },
    {
      "cell_type": "markdown",
      "metadata": {
        "id": "8YDCOo3kWbW_"
      },
      "source": [
        "## Multiclass Classification"
      ]
    },
    {
      "cell_type": "markdown",
      "metadata": {
        "id": "UI0Z0ZSgINhw"
      },
      "source": [
        "We can extend the binary classification metrics to a multiclass classification setting. Initially, it is not entirely clear how we should handle precision, recall and f1-score because metrics like False Negatives are not well defined - we simply do not know who is the \"positive\" and \"negative\" class here. It turns out that this is not a problem if we use the One-vs-Rest scheme.\n",
        "\n",
        "We introduce two ways to do so, which is either using micro-averaging, or macro-averaging. Before we go deeper, we first need to understand the notion of One-vs-Rest.\n",
        "\n",
        "Consider a multiclass problem with 3 labels:  \n",
        "```python\n",
        "# Our dataset is as follows\n",
        "label_dict = {\"benign\": 0, \"borderline\": 1, \"malignant\": 2}\n",
        "classes = [0, 1, 2]\n",
        "y_true = np.array(\n",
        "    [\"benign\", \"borderline\", \"malignant\", \"benign\", \"borderline\", \"malignant\"]\n",
        ")\n",
        "y_pred = np.array(\n",
        "    [\"benign\", \"malignant\", \"borderline\", \"benign\", \"benign\", \"borderline\"]\n",
        ")\n",
        "\n",
        "# Turn them into numbers in the label_dict\n",
        "y_true = np.array([label_dict[label] for label in y_true])\n",
        "y_pred = np.array([label_dict[label] for label in y_pred])\n",
        "```\n",
        "We can calculate the metrics (precision etc) for each label indepedently. What we mean here is that we treat an n-class problem as n-binary classification problem, such as the following:\n",
        "\n",
        "!!! example \"Benign as Positive Class\"\n",
        "    If we take benign as positive class, which is represented as 1, and both borderline and malignant as the negative class 0, then logically (even without the fancy term label binarize), we can just simply replace as follows:\n",
        "    ```python\n",
        "    y_true = [0,1,2,0,1,2] -> y_true = [1,0,0,1,0,0]\n",
        "    y_pred = [0,2,1,0,0,1] -> y_pred = [1,0,0,1,1,0]\n",
        "    ```\n",
        "    where we just replace all 0 (initially benign) to 1, and all 1 and 2 (initially borderline and malignant) to 0 (may be confusing at first).\n",
        "\n",
        "!!! example \"Borderline as Positive Class\"\n",
        "    If we take borderline as positive class, which is represented as 1, and both benign and malignant as the negative class 0, then logically (even without the fancy term label binarize), we can just simply replace as follows:\n",
        "    ```python\n",
        "    y_true = [0,1,2,0,1,2] -> y_true = [0,1,0,0,1,0]\n",
        "    y_pred = [0,2,1,0,0,1] -> y_pred = [0,0,1,0,0,1]\n",
        "    ```\n",
        "    where we just replace all 1 (initially borderline) to 1, and all 0 and 2 (initially benign and malignant) to 0.\n",
        "\n",
        "!!! example \"Malignant as Positive Class\"\n",
        "    If we take malignant as positive class, which is represented as 2, and both benign and borderline as the negative class 0, then logically (even without the fancy term label binarize), we can just simply replace as follows:\n",
        "    ```python\n",
        "    y_true = [0,1,2,0,1,2] -> y_true = [0,0,1,0,0,1]\n",
        "    y_pred = [0,2,1,0,0,1] -> y_pred = [0,1,0,0,0,0]\n",
        "    ```\n",
        "    where we just replace all 2 (initially malignant) to 1, and all 0 and 1 (initially benign and borderline) to 0.\n",
        "\n",
        "---\n",
        "\n",
        "In this case, we have 3 different confusion matrices, one for each class (diagram). In the example above, we did not mention a crucial technique, which is called label binarizer[^1]. We will introduce it in code below.\n",
        "\n",
        "[^1]: https://scikit-learn.org/stable/modules/generated/sklearn.preprocessing.LabelBinarizer.html"
      ]
    },
    {
      "cell_type": "code",
      "execution_count": 5,
      "metadata": {
        "id": "eTGo_K9lRBlZ"
      },
      "outputs": [],
      "source": [
        "# Our dataset is as follows\n",
        "label_dict = {\"benign\": 0, \"borderline\": 1, \"malignant\": 2}\n",
        "classes = [0, 1, 2]\n",
        "y_true = np.array(\n",
        "    [\"benign\", \"borderline\", \"malignant\", \"benign\", \"borderline\", \"malignant\"]\n",
        ")\n",
        "y_pred = np.array(\n",
        "    [\"benign\", \"malignant\", \"borderline\", \"benign\", \"benign\", \"borderline\"]\n",
        ")\n",
        "\n",
        "# Turn them into numbers in the label_dict\n",
        "y_true = np.array([label_dict[label] for label in y_true])\n",
        "y_pred = np.array([label_dict[label] for label in y_pred])"
      ]
    },
    {
      "cell_type": "markdown",
      "metadata": {
        "id": "xG-1G0hXNHP8"
      },
      "source": [
        "### Label Binarize\n",
        "\n",
        "What we have just done in the previous example is that we binarized both `y_true` and `y_pred`. The process of treating each class $C_i$ as an independent class and then applying the \"replacement\" technique is called label binarizing. \n",
        "\n",
        "<figure>\n",
        "    <img src='https://storage.googleapis.com/reighns/reighns_ml_projects/docs/metrics/classification_metrics/label_binarize.png'/>\n",
        "    <figcaption>Label Binarizing, by Hongnan G.</figcaption>\n",
        "</figure>\n",
        "\n",
        "???+ note \"Steps to label binarize\"\n",
        "    1. For each label (0, 1 and 2 here), we call `np.where` such that whenever the y array has this label, we replace it with 1 (positive class), and 0 otherwise (negative class).\n",
        "    ```python\n",
        "    binarized_cols = []\n",
        "    for label in classes:\n",
        "        binarize_col = np.where(y_true == label, 1, 0)\n",
        "        binarized_cols.append(binarize_col)\n",
        "    ```\n",
        "    2. Conventially, we stack them column wise as follows: \n",
        "    ```python\n",
        "    binarized_cols = np.vstack(binarized_cols)\n",
        "    binarized_cols = binarized_cols.T\n",
        "    ```\n",
        "Let us look at the binarized array for `y_true`, notice that the first column `[1,0,0,1,0,0]` corresponds exactly to the example above when we treat benign as positive class (we can verify the same for the rest).\n",
        "\n",
        "```python\n",
        "array([[1, 0, 0],\n",
        "       [0, 1, 0],\n",
        "       [0, 0, 1],\n",
        "       [1, 0, 0],\n",
        "       [0, 1, 0],\n",
        "       [0, 0, 1]])\n",
        "```\n",
        "We note that it is commom practice to label binarize the y values first before passing in for metric calculation.\n",
        "\n",
        "\n"
      ]
    },
    {
      "cell_type": "code",
      "execution_count": 6,
      "metadata": {
        "colab": {
          "base_uri": "https://localhost:8080/"
        },
        "id": "nt3Bx_yZPkLS",
        "outputId": "949da462-9cd5-4ec0-df79-bddef5de2548"
      },
      "outputs": [
        {
          "data": {
            "text/plain": [
              "array([[1, 0, 0],\n",
              "       [0, 1, 0],\n",
              "       [0, 0, 1],\n",
              "       [1, 0, 0],\n",
              "       [0, 1, 0],\n",
              "       [0, 0, 1]])"
            ]
          },
          "execution_count": 6,
          "metadata": {},
          "output_type": "execute_result"
        }
      ],
      "source": [
        "binarized_cols = []\n",
        "for label in classes:\n",
        "    binarize_col = np.where(y_true == label, 1, 0)\n",
        "    binarized_cols.append(binarize_col)\n",
        "\n",
        "np.vstack(binarized_cols).T"
      ]
    },
    {
      "cell_type": "markdown",
      "metadata": {
        "id": "TJyntNfeJrwP"
      },
      "source": [
        "### Macro-Averaging\n",
        "\n"
      ]
    },
    {
      "cell_type": "markdown",
      "metadata": {
        "id": "KWWGqMzDwNU_"
      },
      "source": [
        "Back to where we ended off, we have 3 confusion matrices, we filled up each cell manually by inspection over which is considered TP, FP, FN or TN. Well, the good news is, with label binarizing done, we can just use our good ol' `confusion_matrix_` function done earlier to calculate them for us!\n",
        "\n"
      ]
    },
    {
      "cell_type": "code",
      "execution_count": 7,
      "metadata": {
        "id": "6enGiQ2aW2hd"
      },
      "outputs": [],
      "source": [
        "def multiclass_label_binarize(\n",
        "    y: np.ndarray, class_labels: List[int], pos_label=1, neg_label=0\n",
        "):\n",
        "    \"\"\"Binarize labels in one-vs-all fashion.\n",
        "    # TODO: to replace with the above vstack method.\n",
        "\n",
        "    Args:\n",
        "        y (np.ndarray) Sequence of integer labels to encode\n",
        "        class_labels (array-like) Labels for each class\n",
        "        pos_label (int) Value for positive labels\n",
        "        neg_label (int) Value for negative labels\n",
        "    Returns:\n",
        "        np.ndarray of shape (n_samples, n_classes) Encoded dataset\n",
        "    \"\"\"\n",
        "    if isinstance(y, list):\n",
        "        y = np.asarray(y)\n",
        "\n",
        "    columns = [\n",
        "        np.where(y == label, pos_label, neg_label) for label in class_labels\n",
        "    ]\n",
        "\n",
        "    return np.column_stack(columns)"
      ]
    },
    {
      "cell_type": "code",
      "execution_count": 8,
      "metadata": {
        "id": "PYoey-deW2kX"
      },
      "outputs": [],
      "source": [
        "# Binarize the labels\n",
        "y_true_binarized = multiclass_label_binarize(y_true, classes)\n",
        "y_pred_binarized = multiclass_label_binarize(y_pred, classes)"
      ]
    },
    {
      "cell_type": "code",
      "execution_count": 9,
      "metadata": {
        "id": "d-afyFsiswdz"
      },
      "outputs": [],
      "source": [
        "tp_c1, fp_c1, fn_c1, tn_c1 = \\\n",
        "    confusion_matrix_(\n",
        "    y_true_binarized[:, 0], y_pred_binarized[:, 0]\n",
        "    ).ravel()\n",
        "\n",
        "tp_c2, fp_c2, fn_c2, tn_c2 = \\\n",
        "    confusion_matrix_(\n",
        "    y_true_binarized[:, 1], y_pred_binarized[:, 1]\n",
        "    ).ravel()\n",
        "\n",
        "tp_c3, fp_c3, fn_c3, tn_c3 = \\\n",
        "    confusion_matrix_(\n",
        "    y_true_binarized[:, 2], y_pred_binarized[:, 2]\n",
        "    ).ravel()"
      ]
    },
    {
      "cell_type": "code",
      "execution_count": 10,
      "metadata": {
        "colab": {
          "base_uri": "https://localhost:8080/",
          "height": 851
        },
        "id": "PAy-RiidTEWv",
        "outputId": "48c446c8-94c3-4b12-ed0e-6afeee936b75"
      },
      "outputs": [
        {
          "data": {
            "image/png": "[encoded data removed]",
            "text/plain": [
              "<Figure size 432x288 with 2 Axes>"
            ]
          },
          "metadata": {
            "needs_background": "light"
          },
          "output_type": "display_data"
        },
        {
          "data": {
            "image/png": "[encoded data removed]",
            "text/plain": [
              "<Figure size 432x288 with 2 Axes>"
            ]
          },
          "metadata": {
            "needs_background": "light"
          },
          "output_type": "display_data"
        },
        {
          "data": {
            "image/png": "[encoded data removed]",
            "text/plain": [
              "<Figure size 432x288 with 2 Axes>"
            ]
          },
          "metadata": {
            "needs_background": "light"
          },
          "output_type": "display_data"
        }
      ],
      "source": [
        "plot_confusion_matrix(\n",
        "    y_true_binarized[:, 0],\n",
        "    y_pred_binarized[:, 0],\n",
        "    title=\"Confusion Matrix (Benign as +)\",\n",
        "    labels=[0, 1],\n",
        "    tick_labels=[\"not benign\", \"benign\"],\n",
        ")\n",
        "plot_confusion_matrix(\n",
        "    y_true_binarized[:, 1],\n",
        "    y_pred_binarized[:, 1],\n",
        "    title=\"Confusion Matrix (Borderline as +)\",\n",
        "    labels=[0, 1],\n",
        "    tick_labels=[\"not borderline\", \"borderline\"],\n",
        ")\n",
        "plot_confusion_matrix(\n",
        "    y_true_binarized[:, 2],\n",
        "    y_pred_binarized[:, 2],\n",
        "    title=\"Confusion Matrix (Malignant as +)\",\n",
        "    labels=[0, 1],\n",
        "    tick_labels=[\"not malignant\", \"malignant\"],\n",
        ")"
      ]
    },
    {
      "cell_type": "markdown",
      "metadata": {
        "id": "QMmUnzHET3e8"
      },
      "source": [
        "Then Macro-Average is calculated for each confusion matrix, and then averaged over the total number of classes.\n",
        "\n",
        "$$\\text{Macro-Average Precision} = \\frac{1}{\\text{num_class}}\\sum_{i=1}^{\\text{num_class}}P_{i}$$\n",
        "\n",
        "where $P_i$ is the precision score for each individual confusion matrix for each class. This can be extended for recall and f1 etc."
      ]
    },
    {
      "cell_type": "code",
      "execution_count": 11,
      "metadata": {
        "colab": {
          "base_uri": "https://localhost:8080/"
        },
        "id": "hANwfTCS48nL",
        "outputId": "61a0a627-caeb-429b-8b93-5c722e44f553"
      },
      "outputs": [
        {
          "name": "stdout",
          "output_type": "stream",
          "text": [
            "0.6666666666666666 0.0 0.0\n",
            "Macro-Averaged Precision: 0.2222222222222222\n"
          ]
        }
      ],
      "source": [
        "# Macro-Average\n",
        "precision_c1 = tp_c1 / (\n",
        "    tp_c1 + fp_c1\n",
        ")  # precision for confusion matrix 1 where benign is +\n",
        "precision_c2 = tp_c2 / (tp_c2 + fp_c2)\n",
        "precision_c3 = tp_c3 / (tp_c3 + fp_c3)\n",
        "\n",
        "print(precision_c1, precision_c2, precision_c3)\n",
        "print(\n",
        "    f\"Macro-Averaged Precision: {np.sum([precision_c1, precision_c2, precision_c3]) / len(classes)}\"\n",
        ")"
      ]
    },
    {
      "cell_type": "markdown",
      "metadata": {
        "id": "mEmo1kL2UDcB"
      },
      "source": [
        "### Micro-Averaging\n",
        "\n",
        "Similar to Micro-Averaging, we still have 3 confusion matrices, but we first aggregate all the 3 confusion matrices into one single confusion matrices.\n",
        "\n",
        "$$TP_{\\text{agg}}=\\frac{1}{\\text{num_class}}\\sum_{i=1}^{\\text{num_class}}TP_{i}$$\n",
        "\n",
        "$$FP_{\\text{agg}}=\\frac{1}{\\text{num_class}}\\sum_{i=1}^{\\text{num_class}}FP_{i}$$\n",
        "\n",
        "$$FN_{\\text{agg}}=\\frac{1}{\\text{num_class}}\\sum_{i=1}^{\\text{num_class}}FN_{i}$$\n",
        "\n",
        "$$TN_{\\text{agg}}=\\frac{1}{\\text{num_class}}\\sum_{i=1}^{\\text{num_class}}TN_{i}$$\n",
        "\n",
        "And then once we get the aggregated metrics, we can apply the normal calculation to it.\n",
        "\n",
        "$$\\text{Precision} = \\frac{TP_{\\text{agg}}}{TP_{\\text{agg}} + FP_{\\text{agg}}}$$"
      ]
    },
    {
      "cell_type": "code",
      "execution_count": 12,
      "metadata": {
        "id": "TtsMS2mMsxM9"
      },
      "outputs": [],
      "source": [
        "tp_c1, fp_c1, fn_c1, tn_c1 = \\\n",
        "    confusion_matrix_(\n",
        "    y_true_binarized[:, 0], y_pred_binarized[:, 0]\n",
        "    ).ravel()\n",
        "\n",
        "tp_c2, fp_c2, fn_c2, tn_c2 = \\\n",
        "    confusion_matrix_(\n",
        "    y_true_binarized[:, 1], y_pred_binarized[:, 1]\n",
        "    ).ravel()\n",
        "\n",
        "tp_c3, fp_c3, fn_c3, tn_c3 = \\\n",
        "    confusion_matrix_(\n",
        "    y_true_binarized[:, 2], y_pred_binarized[:, 2]\n",
        "    ).ravel()"
      ]
    },
    {
      "cell_type": "code",
      "execution_count": 13,
      "metadata": {
        "colab": {
          "base_uri": "https://localhost:8080/"
        },
        "id": "os0LZNZ_YXfV",
        "outputId": "d55a9206-0681-4314-f518-1c13d77b4856"
      },
      "outputs": [
        {
          "name": "stdout",
          "output_type": "stream",
          "text": [
            "Micro-Averaged Precision: 0.3333333333333333\n"
          ]
        }
      ],
      "source": [
        "# Aggregation\n",
        "tp_agg = (tp_c1 + tp_c2 + tp_c3) / 3\n",
        "fp_agg = (fp_c1 + fp_c2 + fp_c3) / 3\n",
        "fn_agg = (fn_c1 + fn_c2 + fn_c3) / 3\n",
        "tn_agg = (tn_c1 + tn_c2 + tn_c3) / 3\n",
        "\n",
        "# Calculate precision using Micro-Averaging\n",
        "print(f\"Micro-Averaged Precision: {tp_agg / (tp_agg + fp_agg)}\")"
      ]
    },
    {
      "cell_type": "markdown",
      "metadata": {
        "id": "Zd1MK0UlqCfc"
      },
      "source": [
        "### Micro vs Macro\n",
        "\n",
        "The following content is taken from DataScienceExchange[^1].\n",
        "\n",
        "Micro- and macro-averages (for whatever metric) will compute slightly different things, and thus their interpretation differs. A macro-average will compute the metric independently for each class and then take the average (hence treating all classes equally), whereas a micro-average will aggregate the contributions of all classes to compute the average metric. In a multi-class classification setup, micro-average is preferable if you suspect there might be class imbalance (i.e you may have many more examples of one class than of other classes). \n",
        "\n",
        "To illustrate why, take for example precision $Pr=\\frac{TP}{(TP+FP)}$. Let's imagine you have a *One-vs-All* (there is only one correct class output per example) multi-class classification system with four classes and the following numbers when tested:\n",
        "\n",
        "* Class A: 1 TP and 1 FP\n",
        "* Class B: 10 TP and 90 FP\n",
        "* Class C: 1 TP and 1 FP\n",
        "* Class D: 1 TP and 1 FP\n",
        "\n",
        "You can see easily that $Pr_A = Pr_C = Pr_D = 0.5$, whereas $Pr_B=0.1$.\n",
        "\n",
        "* A macro-average will then compute: $Pr=\\frac{0.5+0.1+0.5+0.5}{4}=0.4$\n",
        "* A micro-average will compute: $Pr=\\frac{1+10+1+1}{2+100+2+2}=0.123$\n",
        "\n",
        "These are quite different values for precision. Intuitively, in the macro-average the \"good\" precision (0.5) of classes A, C and D is contributing to maintain a \"decent\" overall precision (0.4). While this is technically true (across classes, the average precision is 0.4), it is a bit misleading, since a large number of examples are not properly classified. These examples predominantly correspond to class B, so they only contribute 1/4 towards the average in spite of constituting 94.3% of your test data. The micro-average will adequately capture this class imbalance, and bring the overall precision average down to 0.123 (more in line with the precision of the dominating class B (0.1)).\n",
        "\n",
        "For computational reasons, it may sometimes be more convenient to compute class averages and then macro-average them. If class imbalance is known to be an issue, there are several ways around it. One is to report not only the macro-average, but also its standard deviation (for 3 or more classes). Another is to compute a weighted macro-average, in which each class contribution to the average is weighted by the relative number of examples available for it. In the above scenario, we obtain:\n",
        "\n",
        "$Pr_{macro-mean}={0.25·0.5+0.25·0.1+0.25·0.5+0.25·0.5}=0.4$\n",
        "$Pr_{macro-stdev}=0.173$\n",
        "\n",
        "$Pr_{macro-weighted}={0.0189·0.5+0.943·0.1+0.0189·0.5+0.0189·0.5}={0.009+0.094+0.009+0.009}=0.123$\n",
        "\n",
        "The large standard deviation (0.173) already tells us that the 0.4 average does not stem from a uniform precision among classes, but it might be just easier to compute the weighted macro-average, which in essence is another way of computing the micro-average.\n",
        "\n",
        "[1^]: https://datascience.stackexchange.com/questions/15989/micro-average-vs-macro-average-performance-in-a-multiclass-classification-settin"
      ]
    },
    {
      "cell_type": "markdown",
      "metadata": {
        "id": "PBP0SawhZNHe"
      },
      "source": [
        "### Building our own Classification Report\n",
        "\n",
        "Just like scikit-learn's [classification report](https://scikit-learn.org/stable/modules/generated/sklearn.metrics.classification_report.html#sklearn.metrics.classification_report), we can build our own and test if it correct.\n",
        "\n",
        "The code is made easy to follow such that you can detail each step in details if you do not understand how micro or macro is calculated."
      ]
    },
    {
      "cell_type": "code",
      "execution_count": 14,
      "metadata": {
        "id": "a2hesXlranYe"
      },
      "outputs": [],
      "source": [
        "def classification_report_(\n",
        "    y_true: np.ndarray,\n",
        "    y_pred: np.ndarray,\n",
        "    class_labels: List[int],\n",
        "    display_labels: Union[Optional[List[str]], Optional[List[int]]] = None,\n",
        ") -> Union[List[float], Dict[str, float]]:\n",
        "    \"\"\"Classification report that reports precision, recall and f1-score.\n",
        "\n",
        "    Args:\n",
        "        y_true (np.ndarray): Ground truth (correct) target values.\n",
        "        y_pred (np.ndarray): Predicted target values.\n",
        "        class_labels (List[int]): List of class labels.\n",
        "        display_labels: List of display labels.\n",
        "                        (if None, class_labels is used).\n",
        "\n",
        "    Returns:\n",
        "        confusion_matrices (List[np.ndarray]): List of confusion matrices.\n",
        "        tp_fp_fn_tn (Dict[str, float]): List of true positive, false positive,\n",
        "                                        true negative and false negative\n",
        "                                        values.\n",
        "        metrics Dict[str, float]: List of precision, recall and f1-score\n",
        "                                    values.\n",
        "    \"\"\"\n",
        "    if display_labels is None:\n",
        "        # assign display labels to default labels if none is passed in.\n",
        "        display_labels = class_labels  \n",
        "    y_true = np.asarray(y_true)\n",
        "    y_pred = np.asarray(y_pred)\n",
        "\n",
        "    y_true_binarized = multiclass_label_binarize(\n",
        "        y_true, class_labels, pos_label=1, neg_label=0\n",
        "    )\n",
        "    y_pred_binarized = multiclass_label_binarize(\n",
        "        y_pred, class_labels, pos_label=1, neg_label=0\n",
        "    )\n",
        "\n",
        "    confusion_matrices: Dict[str, List[int]] = {}\n",
        "    tp_fp_fn_tn: Dict[str, List[float]] = {}\n",
        "    metrics: Dict[str, List[float]] = {}\n",
        "\n",
        "    for index, label in enumerate(class_labels):\n",
        "        assert (\n",
        "            index == label\n",
        "        ), \"Index should coincide with label,\\\n",
        "            if not, please check how your classes are labelled.\"\n",
        "        cm = confusion_matrix_(\n",
        "            y_true_binarized[:, index], y_pred_binarized[:, index]\n",
        "        )\n",
        "        confusion_matrices[display_labels[index]] = cm\n",
        "        tp, fp, fn, tn = cm.ravel()\n",
        "\n",
        "        precision = tp / (tp + fp)\n",
        "        recall = tp / (tp + fn)\n",
        "        f1 = (\n",
        "            2 * (precision * recall) / (precision + recall)\n",
        "            if (precision + recall) != 0\n",
        "            else 0\n",
        "        )\n",
        "        tp_fp_fn_tn[display_labels[index]] = {\n",
        "            \"precision\": precision,\n",
        "            \"recall\": recall,\n",
        "            \"f1\": f1,\n",
        "        }\n",
        "\n",
        "    def calculate_micro_avg(confusion_matrices) -> Dict[str, float]:\n",
        "        \"\"\"Calculate micro average for precision, recall and f1-score.\n",
        "\n",
        "        Args:\n",
        "            confusion_matrices ([type]): Pass in from local scope.\n",
        "\n",
        "        Returns:\n",
        "            Dict[str, float]: Dictionary of micro average values.\n",
        "        \"\"\"\n",
        "        tp_agg, fp_agg, fn_agg, tn_agg = 0, 0, 0, 0\n",
        "        micro_metrics: Dict[str, List[float]] = {}\n",
        "        total_count = 0\n",
        "        for cm in confusion_matrices.values():\n",
        "            tp, fp, fn, tn = cm.ravel()\n",
        "            tp_agg += tp\n",
        "            fp_agg += fp\n",
        "            fn_agg += fn\n",
        "            tn_agg += tn\n",
        "            total_count += 1\n",
        "\n",
        "        assert total_count == len(\n",
        "            class_labels\n",
        "        ), \"Denominator total_count should equal number of class labels.\"\n",
        "\n",
        "        tp_agg, fp_agg, fn_agg, tn_agg = (\n",
        "            np.asarray([tp_agg, fp_agg, fn_agg, tn_agg]) / total_count\n",
        "        )  # aggregation is performed here using numpy broadcasting\n",
        "\n",
        "        micro_precision = tp_agg / (tp_agg + fp_agg)\n",
        "        micro_recall = tp_agg / (tp_agg + fn_agg)\n",
        "        micro_f1 = (\n",
        "            2\n",
        "            * (micro_precision * micro_recall)\n",
        "            / (micro_precision + micro_recall)\n",
        "            if (micro_precision + micro_recall) != 0\n",
        "            else 0\n",
        "        )\n",
        "        return {\n",
        "            \"micro_precision\": micro_precision,\n",
        "            \"micro_recall\": micro_recall,\n",
        "            \"micro_f1\": micro_f1,\n",
        "        }\n",
        "\n",
        "    metrics[\"micro_scores\"] = calculate_micro_avg(confusion_matrices)\n",
        "\n",
        "    def calculate_macro_avg(confusion_matrices) -> Dict[str, float]:\n",
        "        \"\"\"Calculate macro average for precision, recall and f1-score.\n",
        "\n",
        "        Args:\n",
        "            confusion_matrices ([type]): Pass in from local scope.\n",
        "\n",
        "        Returns:\n",
        "            Dict[str, float]: Dictionary of macro average values.\n",
        "        \"\"\"\n",
        "        macro_precision, macro_recall, macro_f1 = 0, 0, 0\n",
        "        for cm in confusion_matrices.values():\n",
        "            tp, fp, fn, tn = cm.ravel()\n",
        "            precision = tp / (tp + fp)\n",
        "            recall = tp / (tp + fn)\n",
        "            f1 = (\n",
        "                2 * (precision * recall) / (precision + recall)\n",
        "                if (precision + recall) != 0\n",
        "                else 0\n",
        "            )\n",
        "            macro_precision += precision\n",
        "            macro_recall += recall\n",
        "            macro_f1 += f1\n",
        "\n",
        "        macro_precision = macro_precision / len(class_labels)\n",
        "        macro_recall = macro_recall / len(class_labels)\n",
        "        macro_f1 = macro_f1 / len(class_labels)\n",
        "        return {\n",
        "            \"macro_precision\": macro_precision,\n",
        "            \"macro_recall\": macro_recall,\n",
        "            \"macro_f1\": macro_f1,\n",
        "        }\n",
        "\n",
        "    metrics[\"macro_scores\"] = calculate_macro_avg(confusion_matrices)\n",
        "\n",
        "    return confusion_matrices, tp_fp_fn_tn, metrics\n"
      ]
    },
    {
      "cell_type": "code",
      "execution_count": 15,
      "metadata": {
        "colab": {
          "base_uri": "https://localhost:8080/"
        },
        "id": "NFDVivipolhB",
        "outputId": "f0883cd8-a66a-4637-deb0-a943d21c33de"
      },
      "outputs": [
        {
          "name": "stdout",
          "output_type": "stream",
          "text": [
            "Our own classification report: {'micro_scores': {'micro_precision': 0.3333333333333333, 'micro_recall': 0.3333333333333333, 'micro_f1': 0.3333333333333333}, 'macro_scores': {'macro_precision': 0.2222222222222222, 'macro_recall': 0.3333333333333333, 'macro_f1': 0.26666666666666666}}\n",
            "scikit-learn's classification report: {'benign': {'precision': 0.6666666666666666, 'recall': 1.0, 'f1-score': 0.8, 'support': 2}, 'borderline': {'precision': 0.0, 'recall': 0.0, 'f1-score': 0.0, 'support': 2}, 'malignant': {'precision': 0.0, 'recall': 0.0, 'f1-score': 0.0, 'support': 2}, 'accuracy': 0.3333333333333333, 'macro avg': {'precision': 0.2222222222222222, 'recall': 0.3333333333333333, 'f1-score': 0.26666666666666666, 'support': 6}, 'weighted avg': {'precision': 0.2222222222222222, 'recall': 0.3333333333333333, 'f1-score': 0.26666666666666666, 'support': 6}}\n"
          ]
        }
      ],
      "source": [
        "confusion_matrices, tp_fp_fn_tn, metrics_report = classification_report_(\n",
        "    y_true,\n",
        "    y_pred,\n",
        "    class_labels=classes,\n",
        "    display_labels=[\"benign\", \"borderline\", \"malignant\"],\n",
        ")\n",
        "\n",
        "sklearn_classification_report = metrics.classification_report(\n",
        "    y_true,\n",
        "    y_pred,\n",
        "    output_dict=True,\n",
        "    labels=classes,\n",
        "    target_names=[\"benign\", \"borderline\", \"malignant\"],\n",
        ")\n",
        "print(f\"Our own classification report: {metrics_report}\")\n",
        "print(f\"scikit-learn's classification report: {sklearn_classification_report}\")"
      ]
    },
    {
      "cell_type": "markdown",
      "metadata": {
        "id": "oBbW9yZGpX6c"
      },
      "source": [
        "We have successfully coded out classification report to behave the same way as scikit-learn's one."
      ]
    }
  ],
  "metadata": {
    "colab": {
      "collapsed_sections": [],
      "name": "precision_recall_f1.ipynb",
      "provenance": [],
      "toc_visible": true
    },
    "kernelspec": {
      "display_name": "Python 3",
      "name": "python3"
    },
    "language_info": {
      "codemirror_mode": {
        "name": "ipython",
        "version": 3
      },
      "file_extension": ".py",
      "mimetype": "text/x-python",
      "name": "python",
      "nbconvert_exporter": "python",
      "pygments_lexer": "ipython3",
      "version": "3.9.7"
    }
  },
  "nbformat": 4,
  "nbformat_minor": 0
}

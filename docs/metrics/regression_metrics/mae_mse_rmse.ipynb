{
 "cells": [
  {
   "cell_type": "code",
   "execution_count": null,
   "id": "d5f85542-7d23-4188-a424-3d1559cee120",
   "metadata": {},
   "outputs": [],
   "source": []
  },
  {
   "cell_type": "markdown",
   "id": "8fe3af10-3776-4079-a9de-19502e2ee94e",
   "metadata": {},
   "source": [
    "## Predicting a scalar \n",
    "\n",
    "Squared error penalizes larger differences more than Absolute error, but it is prone to outliers. \n",
    "\n",
    "\n",
    "If you can about making sense of units, then root mean squared error.\n",
    "\n"
   ]
  },
  {
   "cell_type": "markdown",
   "id": "91e61012-75c3-4663-9498-2cbaefc86d38",
   "metadata": {},
   "source": [
    "## Predicting a vector\n",
    "\n",
    "See Word2Vec."
   ]
  },
  {
   "cell_type": "markdown",
   "id": "cd38ce02-f5b0-4ff5-a687-a7b5cb3343fb",
   "metadata": {},
   "source": [
    "Cosine Similarity"
   ]
  }
 ],
 "metadata": {
  "kernelspec": {
   "display_name": "Python 3 (ipykernel)",
   "language": "python",
   "name": "python3"
  },
  "language_info": {
   "codemirror_mode": {
    "name": "ipython",
    "version": 3
   },
   "file_extension": ".py",
   "mimetype": "text/x-python",
   "name": "python",
   "nbconvert_exporter": "python",
   "pygments_lexer": "ipython3",
   "version": "3.9.7"
  }
 },
 "nbformat": 4,
 "nbformat_minor": 5
}

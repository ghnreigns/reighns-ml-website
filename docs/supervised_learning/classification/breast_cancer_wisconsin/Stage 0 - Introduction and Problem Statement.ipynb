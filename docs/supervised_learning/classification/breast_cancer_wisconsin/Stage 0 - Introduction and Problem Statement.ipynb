{
 "cells": [
  {
   "cell_type": "markdown",
   "id": "c640f45a-6bb2-4a8a-b036-36261796ca4d",
   "metadata": {},
   "source": [
    "<a id = '1.0'></a>\n",
    "<h1 style = \"font-family: garamond; font-size: 40px; font-style: normal;background-color: #2ab7ca; color : #fed766; border-radius: 5px 5px;padding:5px;text-align:center; font-weight: bold\" >Introduction</h1>"
   ]
  },
  {
   "cell_type": "markdown",
   "id": "a0b1155e-3f13-4afd-ac50-cbcc649b6590",
   "metadata": {},
   "source": [
    "From the infographics below, breast cancer accounts for 30% of the cancers in females, making it the most common cancer in women. Breast cancer is also one of the most curable disease if detected early and there are many measures in place to help. \n",
    "\n",
    "<figure>\n",
    "<img src='https://drive.google.com/uc?id=18qI7JvJxCglRFDSa1XEMBEnCO7EaqM7W' width=\"500\" align=\"center\"/>\n",
    "<figcaption align = \"center\"><b>Courtesy of <a href=\"https://www.singaporecancersociety.org.sg/learn-about-cancer/types-of-cancer/breast-cancer.html\">Singapore Cancer Society</a></b></figcaption>\n",
    "</figure>\n",
    "\n",
    "---\n",
    "\n",
    "In our context, we are presented with a dataset that are taken from a biopsy procedure called **Fine Needle Aspiration (FNA)** performed on the breast. The tissue taken from the biopsy will then be sent to a lab and be examined by a pathologist, a report will be written if cancerous cells are spotted or not and be sent to the specialist to further explain the results to the patient. However, there may be [disagreements](https://www.mayoclinic.org/tests-procedures/breast-biopsy/about/pac-20384812) whereby the pathologist report shows there are no signs of cancerous cells, while radiologist may disagree as he/she might find suspicious lesions from the mammogram/CT/MRI scans. This can happen if the biopsy taken is only on the benign cells and if there is dispute, a more thorough of biopsy may be performed again.\n",
    "\n",
    "---\n",
    "\n",
    "Although our aim in Machine Learning is to classify whether a tumor is benign or malignant, we should bear in mind that we are not trying to dispute the expertise of the doctors/pathologists/radiologists. Instead, we develop models to aid their understanding, and also to come up with a more systematic benchmark for one to refer to. More concretely, the dataset has features that are computed from a digitized image from **FNA**, and each observation describes statistics/characteristics of the cell nucleus. There are 10 base features, and 3 different measurements are taken for each feature, namely, the **mean, standard error and the \"worst/largest\"**. One thing to note is that **worst** means the **mean of the three largest values**.\n",
    "\n",
    "---\n",
    "\n",
    "<strong>Attribute Information:</strong>\n",
    "\n",
    "- ID number\n",
    "- Diagnosis (M = malignant, B = benign)\n",
    "\n",
    "<strong>Ten real-valued features are computed for each cell nucleus:</strong>\n",
    "\n",
    "- radius (mean of distances from center to points on the perimeter)\n",
    "- texture (standard deviation of gray-scale values)\n",
    "- perimeter\n",
    "- area\n",
    "- smoothness (local variation in radius lengths)\n",
    "- compactness ($\\text{perimeter}^2 / \\text{area} - 1.0$)\n",
    "- concavity (severity of concave portions of the contour)\n",
    "- concave points (number of concave portions of the contour)\n",
    "- symmetry\n",
    "- fractal dimension (\"coastline approximation\" - 1)\n",
    "<br>\n",
    "\n",
    "---\n",
    "\n",
    "With these in mind, let us move on to defining the problem and state some initial assumptions."
   ]
  },
  {
   "cell_type": "markdown",
   "id": "3b1e6705-2a7c-4002-a483-6743145b5df5",
   "metadata": {},
   "source": [
    "# Stage 0: Defining the problem and Assumptions"
   ]
  },
  {
   "cell_type": "markdown",
   "id": "f597971c-f3aa-4209-87d0-45866fe97234",
   "metadata": {},
   "source": [
    "## Problem Statement\n",
    "\n",
    "<div class=\"alert alert-success\" role=\"alert\">\n",
    "    <b>Informal Description:</b>\n",
    "    <li> To develop a Machine Learning Model that can classify whether a tumor is benign or malignant. We also note that we care more about whether a cancer patient is classified correctly.\n",
    "</div>\n",
    "\n",
    "---\n",
    "\n",
    "<div class=\"alert alert-success\" role=\"alert\">\n",
    "    <b>Formal Description (Appendix for Notations):</b>\n",
    "    <li> Given a dataset $\\mathcal{D}$ describing characteristics of a tumor, the task $\\mathcal{T}$ is a binary classification problem where we aim to find an optimal hypothesis $g \\in \\mathcal{H}$ using a learning algorithm $\\mathcal{A}$. The optimal hypothesis $g$ should generalize well, that is to say, has a low expected generalization error $\\mathcal{E}$ over a performance measure $\\mathrm{M}$. We will choose the performance measure in the later sections (not accuracy).\n",
    "</div>"
   ]
  },
  {
   "cell_type": "markdown",
   "id": "74baf815-1a11-4cb6-9479-b01237d78b1f",
   "metadata": {},
   "source": [
    "## Considerations\n",
    "\n",
    "<div class=\"alert alert-info\" role=\"alert\">\n",
    "    <li> <b> Size of Dataset</b> <p>\n",
    "        The dataset is not too large, we need to be wary of an overly complex model which may easily overfit, but may not generalize well. </p>\n",
    "    <li> <b> Model Interpretation </b><p>\n",
    "        There is a tradeoff between Model's complexity/flexibility and it's interpretability. If we need to explain our model to our business stakeholders, then it is a good idea to choose a model that can be interpreted well, models like Logistic Regression with Lasso may be a good choice as the model itself has better interpretation, and with lasso we can reduce the number of features. If we only care about our model's ability to predict, then interpretability may not be so important and we may choose a model that performs well, but the weights may be more difficult to understand. </p>\n",
    "    <li> <b> Time and Space Complexity</b> <p>\n",
    "        Practically speaking, we need to strike a balance between the speed of the training and the performance measure of the model. </p>\n",
    "    <li> <b> Data Centric vs Model Centric</b><p>\n",
    "        From the one and only <a href=\"https://analyticsindiamag.com/big-data-to-good-data-andrew-ng-urges-ml-community-to-be-more-data-centric-and-less-model-centric/\">Andrew Ng</a>, we understood that data plays a critical role in the Machine Learning world. </p>\n",
    "</div>    "
   ]
  }
 ],
 "metadata": {
  "kernelspec": {
   "display_name": "Python 3 (ipykernel)",
   "language": "python",
   "name": "python3"
  },
  "language_info": {
   "codemirror_mode": {
    "name": "ipython",
    "version": 3
   },
   "file_extension": ".py",
   "mimetype": "text/x-python",
   "name": "python",
   "nbconvert_exporter": "python",
   "pygments_lexer": "ipython3",
   "version": "3.9.7"
  }
 },
 "nbformat": 4,
 "nbformat_minor": 5
}
